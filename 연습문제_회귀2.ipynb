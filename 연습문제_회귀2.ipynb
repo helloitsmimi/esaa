{
  "nbformat": 4,
  "nbformat_minor": 0,
  "metadata": {
    "colab": {
      "provenance": []
    },
    "kernelspec": {
      "name": "python3",
      "display_name": "Python 3"
    },
    "language_info": {
      "name": "python"
    }
  },
  "cells": [
    {
      "cell_type": "markdown",
      "metadata": {
        "id": "OVjREzxqi3U1"
      },
      "source": [
        "# **1. 규제 선형 회귀 모델/ 회귀 트리**\n",
        "- 릿지 회귀모델 및 회귀 트리를 이용하여 전복의 나이를 예측해 보세요.\n",
        "\n",
        "- 전복의 ‘성별’, ‘키’, ‘지름’, ‘높이’, ‘전체무게’, ‘몸통무게’, ‘내장무게’, ‘껍질무게’를 이용해 ‘껍질의 고리수’를 예측한 뒤, **예측된 ‘껍질의 고리수’에 1.5를 더하면 전복의 나이**가 됩니다."
      ]
    },
    {
      "cell_type": "code",
      "metadata": {
        "id": "AdMN1y-1i_G4"
      },
      "source": [
        "# 기본 모듈 불러오기\n",
        "import numpy as np\n",
        "import pandas as pd\n",
        "\n",
        "import warnings\n",
        "warnings.filterwarnings(action='ignore')"
      ],
      "execution_count": 1,
      "outputs": []
    },
    {
      "cell_type": "markdown",
      "metadata": {
        "id": "fK6WkTaUjF_9"
      },
      "source": [
        "### 1) 데이터 불러오기 및 데이터 선택"
      ]
    },
    {
      "cell_type": "code",
      "metadata": {
        "id": "npiatc6TjCqM"
      },
      "source": [
        "# 데이터 로드\n",
        "data = pd.read_csv(\"abalone.csv\")\n",
        "\n",
        "# 성별 M은 Male, F는 Female, I는 Infant 이므로 따로 열 만들기\n",
        "for label in \"MFI\":\n",
        "    data[label] = data[\"Sex\"] == label\n",
        "data.drop('Sex', axis=1, inplace=True)\n",
        "\n",
        "# X,y 데이터 선택\n",
        "y = data.Rings.values\n",
        "data.drop('Rings', axis=1, inplace=True)\n",
        "\n",
        "X = data.values.astype(float)"
      ],
      "execution_count": 3,
      "outputs": []
    },
    {
      "cell_type": "markdown",
      "metadata": {
        "id": "oRS_pBggjhWe"
      },
      "source": [
        "## 2) train/test 분리\n",
        ": 테스트 셋과 데이터 셋을 7:3 비율로 분리하세요."
      ]
    },
    {
      "cell_type": "code",
      "metadata": {
        "id": "MCos735FjRUg"
      },
      "source": [
        "# 필요한 모듈 불러오기\n",
        "from sklearn.model_selection import train_test_split"
      ],
      "execution_count": 5,
      "outputs": []
    },
    {
      "cell_type": "code",
      "metadata": {
        "id": "c2GBJgtRj0Ke"
      },
      "source": [
        "# train과 test set 분리 (train:test = 7:3 비율로)\n",
        "X_train, X_test, y_train, y_test = train_test_split(X, y, test_size = 0.3)"
      ],
      "execution_count": 6,
      "outputs": []
    },
    {
      "cell_type": "markdown",
      "metadata": {
        "id": "bOxHN7dsj3xP"
      },
      "source": [
        "## 3) 릿지 모델을 이용한 모델링\n",
        ": 릿지 모델을 이용하여 전복의 나이를 예측해 보고 결과를 평가해 보세요."
      ]
    },
    {
      "cell_type": "markdown",
      "metadata": {
        "id": "SpLjzL0yks5X"
      },
      "source": [
        " 3-1) 릿지모델 생성, 교차검증, 평가에 필요한 모듈을 불러오세요."
      ]
    },
    {
      "cell_type": "code",
      "metadata": {
        "id": "rs5OSSjLj226"
      },
      "source": [
        "#필요한 모듈 불러오기\n",
        "from sklearn.linear_model import Ridge\n",
        "from sklearn.model_selection import GridSearchCV, cross_val_score\n",
        "from sklearn.metrics import mean_squared_error"
      ],
      "execution_count": 13,
      "outputs": []
    },
    {
      "cell_type": "markdown",
      "metadata": {
        "id": "-KTiaLjilHXT"
      },
      "source": [
        "3-2) 릿지 모델을 생성하고 훈련하여 MSE와 RMSE를 구하세요. 릿지 모델 생성 시  alpha는 0.3으로 설정합니다. (교차 검증 하지 않습니다.)"
      ]
    },
    {
      "cell_type": "code",
      "metadata": {
        "id": "eK37aNO5lOT-"
      },
      "source": [
        "#릿지모델 생성 및 훈련\n",
        "ridge = Ridge(alpha=0.3)\n",
        "ridge.fit(X_train, y_train)\n",
        "\n",
        "#예측값 구하기\n",
        "preds = ridge.predict(X_test)\n",
        "\n",
        "#구한 예측값을 활용해 최종적으로 전복의 나이 예측\n",
        "age = preds + 1.5\n",
        "\n",
        "#MSE와 RMSE구하기\n",
        "mse = mean_squared_error(y_test+1.5, age)\n",
        "rmse = np.sqrt(mse)"
      ],
      "execution_count": 10,
      "outputs": []
    },
    {
      "cell_type": "markdown",
      "metadata": {
        "id": "MK2LACYtliyO"
      },
      "source": [
        "3-3) 교차검증을 이용하여 0, 0.1, 1, 10, 100 중  모델 성능이 가장 좋게 나오는 (rmse가 최소가 되는) alpha를 구하세요. "
      ]
    },
    {
      "cell_type": "code",
      "metadata": {
        "id": "0Bf_TsDomO4i"
      },
      "source": [
        "# 주어진 alpha\n",
        "alphas=[0, 0.1, 1, 10, 100]"
      ],
      "execution_count": 12,
      "outputs": []
    },
    {
      "cell_type": "code",
      "metadata": {
        "id": "n7Opz8bomXpM",
        "colab": {
          "base_uri": "https://localhost:8080/"
        },
        "outputId": "fab8d372-906c-4592-eaec-d08fd6bc5745"
      },
      "source": [
        "#alphas list 값을 반복하면서 alpha에 따른 평균 rmse를 구함\n",
        "for alpha in alphas :\n",
        "  ridge = Ridge(alpha = alpha)\n",
        "\n",
        "  #cross_val_score를 이용해 5 폴드의 평균 RMSE를 계산\n",
        "  neg_mse_scores = cross_val_score(ridge, X_train, y_train, scoring=\"neg_mean_squared_error\", cv = 5)\n",
        "  rmse_scores  = np.sqrt(-1 * neg_mse_scores)\n",
        "  avg_rmse = np.mean(rmse_scores)\n",
        "  print('##### ',ridge.__class__.__name__ , ' #####')\n",
        "  print(' 5 교차 검증의 평균 RMSE : {0:.3f} '.format(avg_rmse))"
      ],
      "execution_count": 18,
      "outputs": [
        {
          "output_type": "stream",
          "name": "stdout",
          "text": [
            "#####  Ridge  #####\n",
            " 5 교차 검증의 평균 RMSE : 2.219 \n",
            "#####  Ridge  #####\n",
            " 5 교차 검증의 평균 RMSE : 2.205 \n",
            "#####  Ridge  #####\n",
            " 5 교차 검증의 평균 RMSE : 2.195 \n",
            "#####  Ridge  #####\n",
            " 5 교차 검증의 평균 RMSE : 2.348 \n",
            "#####  Ridge  #####\n",
            " 5 교차 검증의 평균 RMSE : 2.619 \n"
          ]
        }
      ]
    },
    {
      "cell_type": "markdown",
      "metadata": {
        "id": "LpPsOGdcm5ch"
      },
      "source": [
        "## 4) XGBRegressor을 이용한 모델링\n",
        ": XGBRegressor 모델을 이용하여 전복의 나이를 예측해 보고 결과를 평가해 보세요."
      ]
    },
    {
      "cell_type": "markdown",
      "metadata": {
        "id": "mUIF11POny1k"
      },
      "source": [
        "4-1) XGBRegressor 훈련, 평가에 필요한 모듈을 불러오세요."
      ]
    },
    {
      "cell_type": "code",
      "metadata": {
        "id": "0tB7r-_HnJen"
      },
      "source": [
        "# 필요한 모듈 임포트\n",
        "from xgboost import XGBRegressor"
      ],
      "execution_count": 19,
      "outputs": []
    },
    {
      "cell_type": "markdown",
      "metadata": {
        "id": "_Gl2TyADoC2S"
      },
      "source": [
        "4-2) XGBregressor 모델을 생성하고 훈련하여 MSE와 RMSE를 구하세요."
      ]
    },
    {
      "cell_type": "code",
      "metadata": {
        "id": "KM5wcdkuoFk2",
        "colab": {
          "base_uri": "https://localhost:8080/"
        },
        "outputId": "4b3f687b-124d-484d-b5e4-117438cb3bb3"
      },
      "source": [
        "#모델 생성 및 훈련\n",
        "xgb_reg = XGBRegressor(n_estimators=100)\n",
        "xgb_reg.fit(X_train, y_train)\n",
        "\n",
        "#예측값 구하기\n",
        "pred2 = xgb_reg.predict(X_test)\n",
        "\n",
        "#구한 예측값을 활용해 최종적으로 전복의 나이 예측\n",
        "age2 = pred2 + 1.5\n",
        "\n",
        "#MSE와 RMSE 구하기\n",
        "mse2 = mean_squared_error(y_test, pred2)\n",
        "rmse2 = np.sqrt(mse2)\n",
        "\n",
        "print(mse2, rmse2)"
      ],
      "execution_count": 20,
      "outputs": [
        {
          "output_type": "stream",
          "name": "stdout",
          "text": [
            "[10:09:03] WARNING: /workspace/src/objective/regression_obj.cu:152: reg:linear is now deprecated in favor of reg:squarederror.\n",
            "4.932528774293606 2.2209297094445843\n"
          ]
        }
      ]
    },
    {
      "cell_type": "markdown",
      "source": [
        "4-3) 생성한 모델의 피처 중요도를 시각화해보세요."
      ],
      "metadata": {
        "id": "VkJBJHQ_qVUP"
      }
    },
    {
      "cell_type": "code",
      "metadata": {
        "id": "MKD9V4AKpAPY",
        "colab": {
          "base_uri": "https://localhost:8080/",
          "height": 283
        },
        "outputId": "b235a735-3e87-42d4-90b4-ace53c673fc3"
      },
      "source": [
        "import seaborn as sns\n",
        "%matplotlib inline\n",
        "\n",
        "feature_series = pd.Series(data = xgb_reg.feature_importances_, index = data.columns)\n",
        "feature_series = feature_series.sort_values(ascending=False)\n",
        "sns.barplot(x = feature_series, y=feature_series.index)"
      ],
      "execution_count": 22,
      "outputs": [
        {
          "output_type": "execute_result",
          "data": {
            "text/plain": [
              "<matplotlib.axes._subplots.AxesSubplot at 0x7f54e486dc90>"
            ]
          },
          "metadata": {},
          "execution_count": 22
        },
        {
          "output_type": "display_data",
          "data": {
            "text/plain": [
              "<Figure size 432x288 with 1 Axes>"
            ],
            "image/png": "[encoded data removed]"
          },
          "metadata": {
            "needs_background": "light"
          }
        }
      ]
    },
    {
      "cell_type": "markdown",
      "source": [
        "---"
      ],
      "metadata": {
        "id": "r3_q8tIMscmi"
      }
    },
    {
      "cell_type": "markdown",
      "metadata": {
        "id": "7fp_617QpGIK"
      },
      "source": [
        "# **2. 로지스틱 회귀분석**\n",
        "load_wine() 함수를 이용하여 와인 데이터를 다항분류하는 로지스틱 회귀모델을 생성하세요. "
      ]
    },
    {
      "cell_type": "code",
      "metadata": {
        "id": "0s6eNftxpOku"
      },
      "source": [
        "# 필요한 모듈 불러오기\n",
        "from sklearn.datasets import load_wine\n",
        "from sklearn.model_selection import train_test_split\n",
        "from sklearn.linear_model import LogisticRegression\n",
        "from sklearn import metrics"
      ],
      "execution_count": 23,
      "outputs": []
    },
    {
      "cell_type": "markdown",
      "metadata": {
        "id": "COFC2gmIpWv8"
      },
      "source": [
        "## 1) 데이터 불러오기 및 변수 선택"
      ]
    },
    {
      "cell_type": "code",
      "metadata": {
        "id": "oyGjyyGWpgOn"
      },
      "source": [
        "wine = load_wine()\n",
        "\n",
        "wine_x = wine.data # x변수 \n",
        "wine_y = wine.target # y변수"
      ],
      "execution_count": 24,
      "outputs": []
    },
    {
      "cell_type": "markdown",
      "metadata": {
        "id": "wwppN1b-pjAq"
      },
      "source": [
        "## 2) train/test 셋 분리"
      ]
    },
    {
      "cell_type": "code",
      "metadata": {
        "id": "WG0_2HQUpiVQ",
        "colab": {
          "base_uri": "https://localhost:8080/"
        },
        "outputId": "24dd4290-9dc7-4a2d-97e8-a5bc830a5efa"
      },
      "source": [
        "x_train, x_test, y_train, y_test = train_test_split(wine_x, wine_y, test_size=0.3, random_state=123)\n",
        "\n",
        "x_train.shape \n",
        "y_train.shape "
      ],
      "execution_count": 25,
      "outputs": [
        {
          "output_type": "execute_result",
          "data": {
            "text/plain": [
              "(124,)"
            ]
          },
          "metadata": {},
          "execution_count": 25
        }
      ]
    },
    {
      "cell_type": "markdown",
      "metadata": {
        "id": "at-bYN42rsUK"
      },
      "source": [
        "## 3) 로지스틱 회귀모델을 이용한 모델링"
      ]
    },
    {
      "cell_type": "markdown",
      "metadata": {
        "id": "zd0Lf4Ejr_WQ"
      },
      "source": [
        "3-1) 로지스틱 회귀모델을 생성하여 훈련하세요."
      ]
    },
    {
      "cell_type": "code",
      "metadata": {
        "id": "5kaHD1nJpo9c",
        "colab": {
          "base_uri": "https://localhost:8080/"
        },
        "outputId": "8b5fe79e-3182-40ec-ec72-112d117aafce"
      },
      "source": [
        "from sklearn.linear_model import LogisticRegression\n",
        "\n",
        "lr_clf = LogisticRegression()\n",
        "lr_clf.fit(x_train, y_train)"
      ],
      "execution_count": 27,
      "outputs": [
        {
          "output_type": "execute_result",
          "data": {
            "text/plain": [
              "LogisticRegression()"
            ]
          },
          "metadata": {},
          "execution_count": 27
        }
      ]
    },
    {
      "cell_type": "markdown",
      "metadata": {
        "id": "5icNrKefsR8A"
      },
      "source": [
        "3-2) 회귀 모델의 기울기와 절편을 구하세요."
      ]
    },
    {
      "cell_type": "code",
      "metadata": {
        "id": "fReIKxgLsU0_",
        "colab": {
          "base_uri": "https://localhost:8080/"
        },
        "outputId": "5c89ea8b-2f26-4523-8957-a3484ee9aedf"
      },
      "source": [
        "#기울기\n",
        "lr_clf.coef_"
      ],
      "execution_count": 28,
      "outputs": [
        {
          "output_type": "execute_result",
          "data": {
            "text/plain": [
              "array([[-1.99751167e-01,  3.65450552e-01,  1.49472112e-01,\n",
              "        -1.88027149e-01, -2.28495646e-02,  1.95456485e-01,\n",
              "         4.66701265e-01, -1.66796661e-02,  8.23897101e-02,\n",
              "         6.75011473e-02, -1.92621856e-02,  2.94915749e-01,\n",
              "         7.42524049e-03],\n",
              "       [ 5.96475829e-01, -7.88672591e-01, -1.26181429e-01,\n",
              "         2.12254654e-01, -1.13504800e-02,  3.15785912e-01,\n",
              "         3.55147976e-01,  3.34675580e-02,  2.79035669e-01,\n",
              "        -1.17202474e+00,  2.61165677e-01,  4.64731544e-01,\n",
              "        -8.33633158e-03],\n",
              "       [-3.96724662e-01,  4.23222039e-01, -2.32906833e-02,\n",
              "        -2.42275051e-02,  3.42000446e-02, -5.11242396e-01,\n",
              "        -8.21849241e-01, -1.67878919e-02, -3.61425379e-01,\n",
              "         1.10452359e+00, -2.41903492e-01, -7.59647293e-01,\n",
              "         9.11091084e-04]])"
            ]
          },
          "metadata": {},
          "execution_count": 28
        }
      ]
    },
    {
      "cell_type": "code",
      "metadata": {
        "id": "tbWm0jEnsbdJ",
        "colab": {
          "base_uri": "https://localhost:8080/"
        },
        "outputId": "44306622-9065-4278-f217-e0b040aba118"
      },
      "source": [
        "#절편\n",
        "lr_clf.intercept_"
      ],
      "execution_count": 29,
      "outputs": [
        {
          "output_type": "execute_result",
          "data": {
            "text/plain": [
              "array([-0.04177837,  0.09551046, -0.05373209])"
            ]
          },
          "metadata": {},
          "execution_count": 29
        }
      ]
    },
    {
      "cell_type": "markdown",
      "metadata": {
        "id": "Bq9ocTsystff"
      },
      "source": [
        "3-3) 모델의 정확도를 구하세요."
      ]
    },
    {
      "cell_type": "code",
      "metadata": {
        "id": "nQcUKZyOsy3J"
      },
      "source": [
        "#모델의 예측값 구하기\n",
        "pred3 = lr_clf.predict(x_test)\n",
        "\n",
        "#모델의 정확도 구하기\n",
        "acc = metrics.accuracy_score(y_test, pred3)"
      ],
      "execution_count": 30,
      "outputs": []
    },
    {
      "cell_type": "code",
      "source": [
        "print(f\"예측값 : {pred3}\")\n",
        "print(f\"정확도 : {acc}\")"
      ],
      "metadata": {
        "colab": {
          "base_uri": "https://localhost:8080/"
        },
        "id": "KYgxxreNuPbD",
        "outputId": "ad3aee2f-327d-4aaa-bff3-9f1172b28b90"
      },
      "execution_count": 31,
      "outputs": [
        {
          "output_type": "stream",
          "name": "stdout",
          "text": [
            "예측값 : [2 1 2 1 1 2 0 2 2 1 2 2 2 0 0 2 1 1 0 1 2 2 2 2 1 2 2 1 0 0 0 0 2 1 2 1 1\n",
            " 0 1 1 2 2 0 0 1 0 0 1 1 1 1 2 2 1]\n",
            "정확도 : 0.9629629629629629\n"
          ]
        }
      ]
    }
  ]
}
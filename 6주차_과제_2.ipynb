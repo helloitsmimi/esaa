{
  "nbformat": 4,
  "nbformat_minor": 0,
  "metadata": {
    "colab": {
      "provenance": [],
      "authorship_tag": "ABX9TyOXYl89762rDiFxW5yv4ueE"
    },
    "kernelspec": {
      "name": "python3",
      "display_name": "Python 3"
    },
    "language_info": {
      "name": "python"
    }
  },
  "cells": [
    {
      "cell_type": "markdown",
      "source": [
        " Do it! 데이터 분석을 위한 판다스 입문 pg. 241~ 242, 256~263을 필사하여 깃허브에 업로드"
      ],
      "metadata": {
        "id": "eF_yofs65Dg0"
      }
    },
    {
      "cell_type": "markdown",
      "source": [
        "# datetime 오브젝트 사용하기"
      ],
      "metadata": {
        "id": "C1Cv6xL15I2l"
      }
    },
    {
      "cell_type": "code",
      "source": [
        "# 라이브러리 불러오기\n",
        "from datetime import datetime"
      ],
      "metadata": {
        "id": "aqrk2yiW5VpO"
      },
      "execution_count": null,
      "outputs": []
    },
    {
      "cell_type": "code",
      "source": [
        "# 현재 시간 출력하기\n",
        "now1 = datetime.now()\n",
        "print(now1)"
      ],
      "metadata": {
        "colab": {
          "base_uri": "https://localhost:8080/"
        },
        "id": "g92hyq_J5XzB",
        "outputId": "6cb86174-6f60-4aa0-a96f-e7230255204f"
      },
      "execution_count": null,
      "outputs": [
        {
          "output_type": "stream",
          "name": "stdout",
          "text": [
            "2022-10-09 13:18:28.804037\n"
          ]
        }
      ]
    },
    {
      "cell_type": "code",
      "source": [
        "# 오늘 날짜 출력하기\n",
        "now2 = datetime.today()\n",
        "print(now2)"
      ],
      "metadata": {
        "colab": {
          "base_uri": "https://localhost:8080/"
        },
        "id": "rMi_obo75Zpk",
        "outputId": "e43e2910-d6fb-42c6-bf41-0c10c9c090d1"
      },
      "execution_count": null,
      "outputs": [
        {
          "output_type": "stream",
          "name": "stdout",
          "text": [
            "2022-10-09 13:18:31.516068\n"
          ]
        }
      ]
    },
    {
      "cell_type": "code",
      "source": [
        "# 시간 직접 입력하여 인자로 전달\n",
        "t1 = datetime.now()\n",
        "t2 = datetime(1970, 1, 1)\n",
        "t3 = datetime(1970, 12, 12, 13, 24, 34)\n",
        "\n",
        "print(t1)\n",
        "print(t2)\n",
        "print(t3)"
      ],
      "metadata": {
        "colab": {
          "base_uri": "https://localhost:8080/"
        },
        "id": "H0USoxqi5bZY",
        "outputId": "7f06a50e-ae2d-4a30-c486-a422e00256d7"
      },
      "execution_count": null,
      "outputs": [
        {
          "output_type": "stream",
          "name": "stdout",
          "text": [
            "2022-10-09 13:19:52.798767\n",
            "1970-01-01 00:00:00\n",
            "1970-12-12 13:24:34\n"
          ]
        }
      ]
    },
    {
      "cell_type": "code",
      "source": [
        "# 시간 계산\n",
        "\n",
        "diff1 = t1 - t2\n",
        "\n",
        "print(diff1)\n",
        "print(type(diff1))"
      ],
      "metadata": {
        "colab": {
          "base_uri": "https://localhost:8080/"
        },
        "id": "tSWnwrlG5vNv",
        "outputId": "f56f6e7f-9c40-4b17-be9f-5621d7c720c7"
      },
      "execution_count": null,
      "outputs": [
        {
          "output_type": "stream",
          "name": "stdout",
          "text": [
            "19274 days, 13:19:52.798767\n",
            "<class 'datetime.timedelta'>\n"
          ]
        }
      ]
    },
    {
      "cell_type": "code",
      "source": [
        "diff2 = t2 - t1\n",
        "\n",
        "print(diff2)\n",
        "print(type(diff2))"
      ],
      "metadata": {
        "colab": {
          "base_uri": "https://localhost:8080/"
        },
        "id": "Q9Fw53lh6Dtz",
        "outputId": "aec1d775-a164-4428-a530-4ee34204887c"
      },
      "execution_count": null,
      "outputs": [
        {
          "output_type": "stream",
          "name": "stdout",
          "text": [
            "-19275 days, 10:40:07.201233\n",
            "<class 'datetime.timedelta'>\n"
          ]
        }
      ]
    },
    {
      "cell_type": "markdown",
      "source": [
        "# 테슬라 주식 데이터로 시간 계산하기"
      ],
      "metadata": {
        "id": "GkahbtjW6GeZ"
      }
    },
    {
      "cell_type": "code",
      "source": [
        "# pandas-datareader 라이브러리로 주식 데이터 불러오기\n",
        "!pip install pandas-datareader"
      ],
      "metadata": {
        "colab": {
          "base_uri": "https://localhost:8080/"
        },
        "id": "9ccYWzpT6MRB",
        "outputId": "6aa55a66-a0a0-4e42-e4ec-142e69f5c73b"
      },
      "execution_count": null,
      "outputs": [
        {
          "output_type": "stream",
          "name": "stdout",
          "text": [
            "Looking in indexes: https://pypi.org/simple, https://us-python.pkg.dev/colab-wheels/public/simple/\n",
            "Requirement already satisfied: pandas-datareader in /usr/local/lib/python3.7/dist-packages (0.9.0)\n",
            "Requirement already satisfied: requests>=2.19.0 in /usr/local/lib/python3.7/dist-packages (from pandas-datareader) (2.23.0)\n",
            "Requirement already satisfied: pandas>=0.23 in /usr/local/lib/python3.7/dist-packages (from pandas-datareader) (1.3.5)\n",
            "Requirement already satisfied: lxml in /usr/local/lib/python3.7/dist-packages (from pandas-datareader) (4.9.1)\n",
            "Requirement already satisfied: numpy>=1.17.3 in /usr/local/lib/python3.7/dist-packages (from pandas>=0.23->pandas-datareader) (1.21.6)\n",
            "Requirement already satisfied: pytz>=2017.3 in /usr/local/lib/python3.7/dist-packages (from pandas>=0.23->pandas-datareader) (2022.4)\n",
            "Requirement already satisfied: python-dateutil>=2.7.3 in /usr/local/lib/python3.7/dist-packages (from pandas>=0.23->pandas-datareader) (2.8.2)\n",
            "Requirement already satisfied: six>=1.5 in /usr/local/lib/python3.7/dist-packages (from python-dateutil>=2.7.3->pandas>=0.23->pandas-datareader) (1.15.0)\n",
            "Requirement already satisfied: chardet<4,>=3.0.2 in /usr/local/lib/python3.7/dist-packages (from requests>=2.19.0->pandas-datareader) (3.0.4)\n",
            "Requirement already satisfied: certifi>=2017.4.17 in /usr/local/lib/python3.7/dist-packages (from requests>=2.19.0->pandas-datareader) (2022.9.24)\n",
            "Requirement already satisfied: idna<3,>=2.5 in /usr/local/lib/python3.7/dist-packages (from requests>=2.19.0->pandas-datareader) (2.10)\n",
            "Requirement already satisfied: urllib3!=1.25.0,!=1.25.1,<1.26,>=1.21.1 in /usr/local/lib/python3.7/dist-packages (from requests>=2.19.0->pandas-datareader) (1.24.3)\n"
          ]
        }
      ]
    },
    {
      "cell_type": "code",
      "source": [
        "import pandas as pd\n",
        "pd.core.common.is_list_like = pd.api.types.is_list_like\n",
        "import pandas_datareader as pdr"
      ],
      "metadata": {
        "id": "irYHKyEI6RKF"
      },
      "execution_count": 1,
      "outputs": []
    },
    {
      "cell_type": "code",
      "source": [
        "tesla = pdr.get_data_quandl('TSLA', api_key = 'GY3mvNesbLMXMjuU-e_r')\n",
        "tesla.to_csv(\"tesla_stock_quandl.csv\")"
      ],
      "metadata": {
        "id": "8wXo8pfb6bbV"
      },
      "execution_count": 2,
      "outputs": []
    },
    {
      "cell_type": "code",
      "source": [
        "print(tesla.head())"
      ],
      "metadata": {
        "colab": {
          "base_uri": "https://localhost:8080/"
        },
        "id": "rHriXzeOCCS4",
        "outputId": "45e82617-7824-4515-ba6e-152de3810a42"
      },
      "execution_count": 3,
      "outputs": [
        {
          "output_type": "stream",
          "name": "stdout",
          "text": [
            "              Open    High     Low   Close      Volume  ExDividend  \\\n",
            "Date                                                                 \n",
            "2018-03-27  304.00  304.27  277.18  279.18  13696168.0         0.0   \n",
            "2018-03-26  307.34  307.59  291.36  304.18   8324639.0         0.0   \n",
            "2018-03-23  311.25  311.61  300.45  301.54   6600538.0         0.0   \n",
            "2018-03-22  313.89  318.82  308.18  309.10   4914307.0         0.0   \n",
            "2018-03-21  310.25  322.44  310.19  316.53   5927881.0         0.0   \n",
            "\n",
            "            SplitRatio  AdjOpen  AdjHigh  AdjLow  AdjClose   AdjVolume  \n",
            "Date                                                                    \n",
            "2018-03-27         1.0   304.00   304.27  277.18    279.18  13696168.0  \n",
            "2018-03-26         1.0   307.34   307.59  291.36    304.18   8324639.0  \n",
            "2018-03-23         1.0   311.25   311.61  300.45    301.54   6600538.0  \n",
            "2018-03-22         1.0   313.89   318.82  308.18    309.10   4914307.0  \n",
            "2018-03-21         1.0   310.25   322.44  310.19    316.53   5927881.0  \n"
          ]
        }
      ]
    },
    {
      "cell_type": "code",
      "source": [
        "# data 열을 datetime 형으로 변환\n",
        "\n",
        "tesla = pd.read_csv(\"tesla_stock_quandl.csv\", parse_dates=[0])\n",
        "print(tesla.info())"
      ],
      "metadata": {
        "colab": {
          "base_uri": "https://localhost:8080/"
        },
        "id": "G8HpCgxx6lsI",
        "outputId": "c3dcc8f7-3f99-4d67-a104-00960bb0d89d"
      },
      "execution_count": 4,
      "outputs": [
        {
          "output_type": "stream",
          "name": "stdout",
          "text": [
            "<class 'pandas.core.frame.DataFrame'>\n",
            "RangeIndex: 115 entries, 0 to 114\n",
            "Data columns (total 13 columns):\n",
            " #   Column      Non-Null Count  Dtype         \n",
            "---  ------      --------------  -----         \n",
            " 0   Date        115 non-null    datetime64[ns]\n",
            " 1   Open        115 non-null    float64       \n",
            " 2   High        115 non-null    float64       \n",
            " 3   Low         115 non-null    float64       \n",
            " 4   Close       115 non-null    float64       \n",
            " 5   Volume      115 non-null    float64       \n",
            " 6   ExDividend  115 non-null    float64       \n",
            " 7   SplitRatio  115 non-null    float64       \n",
            " 8   AdjOpen     115 non-null    float64       \n",
            " 9   AdjHigh     115 non-null    float64       \n",
            " 10  AdjLow      115 non-null    float64       \n",
            " 11  AdjClose    115 non-null    float64       \n",
            " 12  AdjVolume   115 non-null    float64       \n",
            "dtypes: datetime64[ns](1), float64(12)\n",
            "memory usage: 11.8 KB\n",
            "None\n"
          ]
        }
      ]
    },
    {
      "cell_type": "code",
      "source": [
        "print(tesla.loc[(tesla.Date.dt.year == 2018) & (tesla.Date.dt.month == 3)])"
      ],
      "metadata": {
        "colab": {
          "base_uri": "https://localhost:8080/"
        },
        "id": "DQFQ-3c6BmSo",
        "outputId": "67ff1a99-337c-4b79-bf83-d06e3eba0441"
      },
      "execution_count": 5,
      "outputs": [
        {
          "output_type": "stream",
          "name": "stdout",
          "text": [
            "         Date    Open    High       Low   Close      Volume  ExDividend  \\\n",
            "0  2018-03-27  304.00  304.27  277.1800  279.18  13696168.0         0.0   \n",
            "1  2018-03-26  307.34  307.59  291.3600  304.18   8324639.0         0.0   \n",
            "2  2018-03-23  311.25  311.61  300.4500  301.54   6600538.0         0.0   \n",
            "3  2018-03-22  313.89  318.82  308.1800  309.10   4914307.0         0.0   \n",
            "4  2018-03-21  310.25  322.44  310.1900  316.53   5927881.0         0.0   \n",
            "5  2018-03-20  314.87  316.25  308.7600  310.55   4726182.0         0.0   \n",
            "6  2018-03-19  316.50  320.75  309.6700  313.56   7440766.0         0.0   \n",
            "7  2018-03-16  325.96  327.40  319.0700  321.35   6058612.0         0.0   \n",
            "8  2018-03-15  329.38  332.85  321.1000  325.60   6366922.0         0.0   \n",
            "9  2018-03-14  336.76  339.81  323.9300  326.63   7932511.0         0.0   \n",
            "10 2018-03-13  344.92  345.12  336.2635  341.84   5932110.0         0.0   \n",
            "11 2018-03-12  328.61  347.21  326.5000  345.51   8212156.0         0.0   \n",
            "12 2018-03-09  324.10  328.49  322.3700  327.17   5479716.0         0.0   \n",
            "13 2018-03-08  332.86  333.30  326.2740  329.10   3476944.0         0.0   \n",
            "14 2018-03-07  325.44  332.50  321.7400  332.30   5007297.0         0.0   \n",
            "15 2018-03-06  333.75  336.37  327.0300  328.20   4285744.0         0.0   \n",
            "16 2018-03-05  332.39  337.75  329.2929  333.35   3823769.0         0.0   \n",
            "17 2018-03-02  326.98  335.22  322.9700  335.12   5092829.0         0.0   \n",
            "18 2018-03-01  345.01  348.67  330.0700  330.93   6885601.0         0.0   \n",
            "\n",
            "    SplitRatio  AdjOpen  AdjHigh    AdjLow  AdjClose   AdjVolume  \n",
            "0          1.0   304.00   304.27  277.1800    279.18  13696168.0  \n",
            "1          1.0   307.34   307.59  291.3600    304.18   8324639.0  \n",
            "2          1.0   311.25   311.61  300.4500    301.54   6600538.0  \n",
            "3          1.0   313.89   318.82  308.1800    309.10   4914307.0  \n",
            "4          1.0   310.25   322.44  310.1900    316.53   5927881.0  \n",
            "5          1.0   314.87   316.25  308.7600    310.55   4726182.0  \n",
            "6          1.0   316.50   320.75  309.6700    313.56   7440766.0  \n",
            "7          1.0   325.96   327.40  319.0700    321.35   6058612.0  \n",
            "8          1.0   329.38   332.85  321.1000    325.60   6366922.0  \n",
            "9          1.0   336.76   339.81  323.9300    326.63   7932511.0  \n",
            "10         1.0   344.92   345.12  336.2635    341.84   5932110.0  \n",
            "11         1.0   328.61   347.21  326.5000    345.51   8212156.0  \n",
            "12         1.0   324.10   328.49  322.3700    327.17   5479716.0  \n",
            "13         1.0   332.86   333.30  326.2740    329.10   3476944.0  \n",
            "14         1.0   325.44   332.50  321.7400    332.30   5007297.0  \n",
            "15         1.0   333.75   336.37  327.0300    328.20   4285744.0  \n",
            "16         1.0   332.39   337.75  329.2929    333.35   3823769.0  \n",
            "17         1.0   326.98   335.22  322.9700    335.12   5092829.0  \n",
            "18         1.0   345.01   348.67  330.0700    330.93   6885601.0  \n"
          ]
        }
      ]
    },
    {
      "cell_type": "code",
      "source": [
        "tesla.index = tesla['Date']\n",
        "print(tesla.index)"
      ],
      "metadata": {
        "colab": {
          "base_uri": "https://localhost:8080/"
        },
        "id": "oM1Ldoi5Ch0g",
        "outputId": "6cf313f2-9e12-4cfd-cc09-f1793a5cbfdc"
      },
      "execution_count": 6,
      "outputs": [
        {
          "output_type": "stream",
          "name": "stdout",
          "text": [
            "DatetimeIndex(['2018-03-27', '2018-03-26', '2018-03-23', '2018-03-22',\n",
            "               '2018-03-21', '2018-03-20', '2018-03-19', '2018-03-16',\n",
            "               '2018-03-15', '2018-03-14',\n",
            "               ...\n",
            "               '2017-10-23', '2017-10-20', '2017-10-19', '2017-10-18',\n",
            "               '2017-10-17', '2017-10-16', '2017-10-13', '2017-10-12',\n",
            "               '2017-10-11', '2017-10-10'],\n",
            "              dtype='datetime64[ns]', name='Date', length=115, freq=None)\n"
          ]
        }
      ]
    },
    {
      "cell_type": "code",
      "source": [
        "# datetime 오브젝트를 인덱스로 지정하여 원하는 시간의 데이터 추출\n",
        "\n",
        "# 2017년 데이터 추출\n",
        "print(tesla['2017'].iloc[:5, :5])"
      ],
      "metadata": {
        "id": "1d53_4yUClwo",
        "colab": {
          "base_uri": "https://localhost:8080/"
        },
        "outputId": "cb1759a2-ea42-4626-a3f6-dc0e952b8e5f"
      },
      "execution_count": 8,
      "outputs": [
        {
          "output_type": "stream",
          "name": "stdout",
          "text": [
            "                 Date    Open      High     Low   Close\n",
            "Date                                                   \n",
            "2017-12-29 2017-12-29  316.18  316.4100  310.00  311.35\n",
            "2017-12-28 2017-12-28  311.75  315.8200  309.54  315.36\n",
            "2017-12-27 2017-12-27  316.00  317.6800  310.75  311.64\n",
            "2017-12-26 2017-12-26  323.83  323.9400  316.58  317.29\n",
            "2017-12-22 2017-12-22  329.51  330.9214  324.82  325.20\n"
          ]
        },
        {
          "output_type": "stream",
          "name": "stderr",
          "text": [
            "/usr/local/lib/python3.7/dist-packages/ipykernel_launcher.py:3: FutureWarning: Indexing a DataFrame with a datetimelike index using a single string to slice the rows, like `frame[string]`, is deprecated and will be removed in a future version. Use `frame.loc[string]` instead.\n",
            "  This is separate from the ipykernel package so we can avoid doing imports until\n"
          ]
        }
      ]
    },
    {
      "cell_type": "code",
      "source": [
        "# 2017년 12월 데이터 추출\n",
        "print(tesla['2017-12'].iloc[:, :5])"
      ],
      "metadata": {
        "colab": {
          "base_uri": "https://localhost:8080/"
        },
        "id": "_fezAL_tcoo0",
        "outputId": "0993d4e2-93b5-4a55-df47-821dff84f9f6"
      },
      "execution_count": 9,
      "outputs": [
        {
          "output_type": "stream",
          "name": "stdout",
          "text": [
            "                 Date    Open      High     Low   Close\n",
            "Date                                                   \n",
            "2017-12-29 2017-12-29  316.18  316.4100  310.00  311.35\n",
            "2017-12-28 2017-12-28  311.75  315.8200  309.54  315.36\n",
            "2017-12-27 2017-12-27  316.00  317.6800  310.75  311.64\n",
            "2017-12-26 2017-12-26  323.83  323.9400  316.58  317.29\n",
            "2017-12-22 2017-12-22  329.51  330.9214  324.82  325.20\n",
            "2017-12-21 2017-12-21  329.59  333.7400  327.21  331.66\n",
            "2017-12-20 2017-12-20  332.69  333.1000  325.04  328.98\n",
            "2017-12-19 2017-12-19  340.26  341.4925  330.30  331.10\n",
            "2017-12-18 2017-12-18  344.90  346.7300  337.58  338.87\n",
            "2017-12-15 2017-12-15  342.04  343.9000  335.76  343.45\n",
            "2017-12-14 2017-12-14  341.01  347.4400  336.90  337.89\n",
            "2017-12-13 2017-12-13  340.93  344.2200  336.50  339.03\n",
            "2017-12-12 2017-12-12  330.45  341.4400  330.03  341.03\n",
            "2017-12-11 2017-12-11  314.63  329.0100  313.75  328.91\n",
            "2017-12-08 2017-12-08  314.60  316.9800  311.26  315.13\n",
            "2017-12-07 2017-12-07  312.00  318.6341  311.05  311.24\n",
            "2017-12-06 2017-12-06  300.10  313.3900  300.00  313.26\n",
            "2017-12-05 2017-12-05  302.00  308.0000  301.00  303.70\n",
            "2017-12-04 2017-12-04  306.50  308.2650  300.61  305.20\n",
            "2017-12-01 2017-12-01  305.44  310.3200  305.05  306.53\n"
          ]
        },
        {
          "output_type": "stream",
          "name": "stderr",
          "text": [
            "/usr/local/lib/python3.7/dist-packages/ipykernel_launcher.py:1: FutureWarning: Indexing a DataFrame with a datetimelike index using a single string to slice the rows, like `frame[string]`, is deprecated and will be removed in a future version. Use `frame.loc[string]` instead.\n",
            "  \"\"\"Entry point for launching an IPython kernel.\n"
          ]
        }
      ]
    },
    {
      "cell_type": "markdown",
      "source": [
        "## 시간 간격을 인덱스로 지정해 데이터 추출하기"
      ],
      "metadata": {
        "id": "ODlNq-Vlc7MM"
      }
    },
    {
      "cell_type": "code",
      "source": [
        "# 데이터 수집 기간 파악\n",
        "\n",
        "tesla['ref_date'] = tesla['Date'] - tesla['Date'].min()\n",
        "print(tesla.head())"
      ],
      "metadata": {
        "colab": {
          "base_uri": "https://localhost:8080/"
        },
        "id": "xgD-vFiTc1U4",
        "outputId": "505a21eb-3004-47e9-e54b-c4c83f640b37"
      },
      "execution_count": 10,
      "outputs": [
        {
          "output_type": "stream",
          "name": "stdout",
          "text": [
            "                 Date    Open    High     Low   Close      Volume  ExDividend  \\\n",
            "Date                                                                            \n",
            "2018-03-27 2018-03-27  304.00  304.27  277.18  279.18  13696168.0         0.0   \n",
            "2018-03-26 2018-03-26  307.34  307.59  291.36  304.18   8324639.0         0.0   \n",
            "2018-03-23 2018-03-23  311.25  311.61  300.45  301.54   6600538.0         0.0   \n",
            "2018-03-22 2018-03-22  313.89  318.82  308.18  309.10   4914307.0         0.0   \n",
            "2018-03-21 2018-03-21  310.25  322.44  310.19  316.53   5927881.0         0.0   \n",
            "\n",
            "            SplitRatio  AdjOpen  AdjHigh  AdjLow  AdjClose   AdjVolume  \\\n",
            "Date                                                                     \n",
            "2018-03-27         1.0   304.00   304.27  277.18    279.18  13696168.0   \n",
            "2018-03-26         1.0   307.34   307.59  291.36    304.18   8324639.0   \n",
            "2018-03-23         1.0   311.25   311.61  300.45    301.54   6600538.0   \n",
            "2018-03-22         1.0   313.89   318.82  308.18    309.10   4914307.0   \n",
            "2018-03-21         1.0   310.25   322.44  310.19    316.53   5927881.0   \n",
            "\n",
            "           ref_date  \n",
            "Date                 \n",
            "2018-03-27 168 days  \n",
            "2018-03-26 167 days  \n",
            "2018-03-23 164 days  \n",
            "2018-03-22 163 days  \n",
            "2018-03-21 162 days  \n"
          ]
        }
      ]
    },
    {
      "cell_type": "code",
      "source": [
        "# 시간 간격을 이용해 데이터 추출\n",
        "tesla.index = tesla['ref_date']\n",
        "print(tesla.iloc[:5, :5])"
      ],
      "metadata": {
        "colab": {
          "base_uri": "https://localhost:8080/"
        },
        "id": "fKiJgKsTdH9F",
        "outputId": "5e750423-0747-45ee-ac21-f21a75dfc022"
      },
      "execution_count": 11,
      "outputs": [
        {
          "output_type": "stream",
          "name": "stdout",
          "text": [
            "               Date    Open    High     Low   Close\n",
            "ref_date                                           \n",
            "168 days 2018-03-27  304.00  304.27  277.18  279.18\n",
            "167 days 2018-03-26  307.34  307.59  291.36  304.18\n",
            "164 days 2018-03-23  311.25  311.61  300.45  301.54\n",
            "163 days 2018-03-22  313.89  318.82  308.18  309.10\n",
            "162 days 2018-03-21  310.25  322.44  310.19  316.53\n"
          ]
        }
      ]
    },
    {
      "cell_type": "code",
      "source": [
        "# 데이터 수집 후 최초 5일의 데이터 추출\n",
        "# 4 days는 데이터 없어 출력 x\n",
        "\n",
        "print(tesla['5 days':].iloc[:5,:5])"
      ],
      "metadata": {
        "colab": {
          "base_uri": "https://localhost:8080/"
        },
        "id": "hSHJXjF4dTRT",
        "outputId": "a5ac4691-fd94-4ebc-f014-d357d4545adf"
      },
      "execution_count": 12,
      "outputs": [
        {
          "output_type": "stream",
          "name": "stdout",
          "text": [
            "               Date    Open    High       Low   Close\n",
            "ref_date                                             \n",
            "3 days   2017-10-13  356.98  358.49  353.6800  355.57\n",
            "2 days   2017-10-12  352.95  359.78  352.6400  355.68\n",
            "1 days   2017-10-11  353.89  357.60  351.1500  354.60\n",
            "0 days   2017-10-10  346.80  355.63  345.5305  355.59\n"
          ]
        }
      ]
    },
    {
      "cell_type": "markdown",
      "source": [
        "## 시간 범위 생성해 인덱스로 지정하기"
      ],
      "metadata": {
        "id": "DGC8elXRdeKu"
      }
    },
    {
      "cell_type": "code",
      "source": [
        "# ebola 데이터 : 2015/1/1 데이터 누락\n",
        "\n",
        "ebola = pd.read_csv(\"country_timeseries.csv\")\n",
        "print(ebola.iloc[:5, :5])"
      ],
      "metadata": {
        "colab": {
          "base_uri": "https://localhost:8080/"
        },
        "id": "Yw-bVLwadtSo",
        "outputId": "d5b40e53-80c3-4fac-bd9e-4507b4dba2ac"
      },
      "execution_count": 13,
      "outputs": [
        {
          "output_type": "stream",
          "name": "stdout",
          "text": [
            "         Date  Day  Cases_Guinea  Cases_Liberia  Cases_SierraLeone\n",
            "0    1/5/2015  289        2776.0            NaN            10030.0\n",
            "1    1/4/2015  288        2775.0            NaN             9780.0\n",
            "2    1/3/2015  287        2769.0         8166.0             9722.0\n",
            "3    1/2/2015  286           NaN         8157.0                NaN\n",
            "4  12/31/2014  284        2730.0         8115.0             9633.0\n"
          ]
        }
      ]
    },
    {
      "cell_type": "code",
      "source": [
        "# 2014/3/23 데이터 누락\n",
        "\n",
        "print(ebola.iloc[-5:, :5])"
      ],
      "metadata": {
        "colab": {
          "base_uri": "https://localhost:8080/"
        },
        "id": "f1CjRds8gPOd",
        "outputId": "e6d78703-be5d-4952-c64e-333099706cc3"
      },
      "execution_count": 14,
      "outputs": [
        {
          "output_type": "stream",
          "name": "stdout",
          "text": [
            "          Date  Day  Cases_Guinea  Cases_Liberia  Cases_SierraLeone\n",
            "117  3/27/2014    5         103.0            8.0                6.0\n",
            "118  3/26/2014    4          86.0            NaN                NaN\n",
            "119  3/25/2014    3          86.0            NaN                NaN\n",
            "120  3/24/2014    2          86.0            NaN                NaN\n",
            "121  3/22/2014    0          49.0            NaN                NaN\n"
          ]
        }
      ]
    },
    {
      "cell_type": "code",
      "source": [
        "# date_range 메소드로 2014년 12월 31일부터 2015년 1월 5일 사이의 시간 인덱스 생성\n",
        "\n",
        "head_range = pd.date_range(start='2014-12-31', end='2015-01-05')\n",
        "print(head_range)"
      ],
      "metadata": {
        "colab": {
          "base_uri": "https://localhost:8080/"
        },
        "id": "e3uhSyz7gT6Z",
        "outputId": "6d2584f5-160e-403a-81fd-a6a3b40bf736"
      },
      "execution_count": 15,
      "outputs": [
        {
          "output_type": "stream",
          "name": "stdout",
          "text": [
            "DatetimeIndex(['2014-12-31', '2015-01-01', '2015-01-02', '2015-01-03',\n",
            "               '2015-01-04', '2015-01-05'],\n",
            "              dtype='datetime64[ns]', freq='D')\n"
          ]
        }
      ]
    },
    {
      "cell_type": "code",
      "source": [
        "ebola_5 = ebola.head()\n",
        "ebola_5.index = ebola_5['Date']\n",
        "ebola_5.reindex(head_range)\n",
        "print(ebola_5.iloc[:5, :5])"
      ],
      "metadata": {
        "colab": {
          "base_uri": "https://localhost:8080/"
        },
        "id": "9--pltYFgf4h",
        "outputId": "c14f001d-d3cc-4956-ff3f-67412f21b886"
      },
      "execution_count": 16,
      "outputs": [
        {
          "output_type": "stream",
          "name": "stdout",
          "text": [
            "                  Date  Day  Cases_Guinea  Cases_Liberia  Cases_SierraLeone\n",
            "Date                                                                       \n",
            "1/5/2015      1/5/2015  289        2776.0            NaN            10030.0\n",
            "1/4/2015      1/4/2015  288        2775.0            NaN             9780.0\n",
            "1/3/2015      1/3/2015  287        2769.0         8166.0             9722.0\n",
            "1/2/2015      1/2/2015  286           NaN         8157.0                NaN\n",
            "12/31/2014  12/31/2014  284        2730.0         8115.0             9633.0\n"
          ]
        }
      ]
    },
    {
      "cell_type": "markdown",
      "source": [
        "# 시간 범위 주기 설정\n",
        "**freq 속성값으로 사용할 수 있는 시간 주기**\n",
        "- B : 평일만 포함\n",
        "- C : 사용자가 정의한 평일만 포함\n",
        "- D : 달력 일자 단위\n",
        "- W : 주간 단위\n",
        "- M : 월 마지막 날만 포함\n",
        "- SM : 15일과 월 마지막 날만 포함\n",
        "- BM : M 주기의 값이 휴일이면 제외하고 평일만 포함\n",
        "- CBM : BM에 사용자 정의 평일을 적용\n",
        "- MS : 월 시작일만 포함\n",
        "- SMS : 월 시작일과 15일만 포함\n",
        "- BMS : MS 주기의 값이 휴일이면 제외하고 평일만 포함\n",
        "- CBMS : BMS에 사용자 정의 평일을 적용\n",
        "- Q : 3,6,9,12월 분기 마지막 날만 포함\n",
        "- A : 년의 마지막 날만 포함\n",
        "- H : 시간 단위로 포함"
      ],
      "metadata": {
        "id": "nYw4a1vlgrIu"
      }
    }
  ]
}
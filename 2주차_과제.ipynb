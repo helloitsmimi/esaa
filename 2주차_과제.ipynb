{
  "nbformat": 4,
  "nbformat_minor": 0,
  "metadata": {
    "colab": {
      "provenance": [],
      "authorship_tag": "ABX9TyNG2a47IMYybakysoi7dyas"
    },
    "kernelspec": {
      "name": "python3",
      "display_name": "Python 3"
    },
    "language_info": {
      "name": "python"
    }
  },
  "cells": [
    {
      "cell_type": "markdown",
      "source": [
        "# 01. 파이썬 기반의 머신러닝과 생태계 이해\n",
        "## 01. 머신러닝의 개념\n",
        "1) 머신러닝<br/>\n",
        "① 데이터를 기반으로 패턴을 학습하고 결과를 예측하는 알고리즘 기법<br/>\n",
        "② 복잡한 조건, 규칙들이 다양한 형태로 결합하고 시시각각 변해 그를 관통하는 일정한 패턴을 찾기 어려운 경우 사용 (ex : 스팸메일 필터링)<br/>\n",
        "③ 데이터 기반으로 통계적 신뢰도 강화, 다양한 수학적 기법으로 예측 오류 최소화 <br/>\n",
        "④ 단점 : 데이터에 매우 의존적(Garbage in, Garbage out)\n",
        "\n",
        "2) 머신러닝의 분류<br/>\n",
        "① 지도학습 : 분류, 회귀 등<br/>\n",
        "② 비지도학습 : 클러스터링, 차원축소 등<br/>\n",
        "③ 강화학습\n",
        "\n",
        "## 02. 파이썬 머신러닝 생태계를 구성하는 주요 패키지\n",
        "1) 사이킷런 : 머신러닝 패키지<br/>\n",
        "2) 넘파이 : 행렬/선형대수/통계 패키지 <br/>\n",
        "3) 판다스 : 데이터 핸들링. 2차원 데이터 처리에 특화<br/>\n",
        "4) 맷플롯립, 시본 : 시각화<br/>\n",
        "5) 주피터 노트북 : 아이파이썬 지원 툴\n",
        "\n",
        "## 03. 넘파이\n",
        "1) nd.array() : 리스트 등의 인자를 입력받아 ndarray로 변환. shape 이용 시 ndarray의 차원 파악 가능"
      ],
      "metadata": {
        "id": "2zjw5Nho7W0L"
      }
    },
    {
      "cell_type": "code",
      "source": [
        "# numpy 모듈을 np로 임포트\n",
        "import numpy as np\n",
        "\n",
        "array1 = np.array([1,2,3])\n",
        "print('array1 type:', type(array1))\n",
        "print('array1 array 형태:', array1.shape) # 1차원 array가 3개의 데이터를 가짐\n",
        "\n",
        "array2 = np.array([[1,2,3], [2,3,4]])\n",
        "print('array2 type:', type(array2))\n",
        "print('array2 array 형태:', array2.shape) # 2차원 array가 2개의 행과 3개의 열로 구성\n",
        "\n",
        "array3 = np.array([[1,2,3]])\n",
        "print('array3 type:', type(array3))\n",
        "print('array3 array 형태:', array3.shape) # 2차원 array가 1개의 행과 3개의 열로 구성\n",
        "\n",
        "print('array1: {:0}차원, array2: {:1}차원, array3: {:2}차원'.format(array1.ndim, array2.ndim, array3.ndim))"
      ],
      "metadata": {
        "colab": {
          "base_uri": "https://localhost:8080/"
        },
        "id": "9_PIuT6rFrJn",
        "outputId": "072be425-933a-46e4-d186-801506faa6c2"
      },
      "execution_count": 3,
      "outputs": [
        {
          "output_type": "stream",
          "name": "stdout",
          "text": [
            "array1 type: <class 'numpy.ndarray'>\n",
            "array1 array 형태: (3,)\n",
            "array2 type: <class 'numpy.ndarray'>\n",
            "array2 array 형태: (2, 3)\n",
            "array3 type: <class 'numpy.ndarray'>\n",
            "array3 array 형태: (1, 3)\n",
            "array1: 1차원, array2: 2차원, array3:  2차원\n"
          ]
        }
      ]
    },
    {
      "cell_type": "markdown",
      "source": [
        "2) ndarray 데이터 타입<br/>\n",
        "① 숫자 값(int, unsigned int, float, complex), 문자열 값, 불 값 모두 가능<br/>\n",
        "② ndarray 내에서는 같은 데이터 타입만 가능<br/>\n",
        "③ dtype으로 ndarray내의 데이터 타입 확인 가능<br/>\n",
        "④ 다른 데이터 유형이 섞여있는 리스트를 ndarray로 변환 시, 데이터 크기가 더 큰 타입으로 변환 일괄 적용<br/>\n",
        "⑤ astype() : ndarray 내 데이터 타입 변경"
      ],
      "metadata": {
        "id": "qbfNodZkFzzY"
      }
    },
    {
      "cell_type": "code",
      "source": [
        "list1 = [1,2,3]\n",
        "print(type(list1)) \n",
        "array1 = np.array(list1) \n",
        "print(type(array1)) \n",
        "print(array1.dtype) \n",
        "\n",
        "# 다른 데이터 유형 섞여있는 리스트\n",
        "list2 = [1, 2, 'test']\n",
        "array2 = np.array(list2)\n",
        "print(array2.dtype) # 숫자형값보다 데이터 크기가 큰 문자열 값으로 변환\n",
        "\n",
        "list3 = [1, 2, 3.0]\n",
        "array3 = np.array(list3)\n",
        "print(array3, array3.dtype) # int가 float64로 변환"
      ],
      "metadata": {
        "colab": {
          "base_uri": "https://localhost:8080/"
        },
        "id": "ahHrK2UqGdJh",
        "outputId": "fe6d18f6-bd62-48da-9174-17b4e85e8143"
      },
      "execution_count": 4,
      "outputs": [
        {
          "output_type": "stream",
          "name": "stdout",
          "text": [
            "<class 'list'>\n",
            "<class 'numpy.ndarray'>\n",
            "int64\n",
            "<U21\n",
            "[1. 2. 3.] float64\n"
          ]
        }
      ]
    },
    {
      "cell_type": "code",
      "source": [
        "array_int = np.array([1,2,3])\n",
        "array_float = array_int.astype('float64')\n",
        "print(array_float, array_float.dtype)\n",
        "\n",
        "array_int1 = array_float.astype('int32')\n",
        "print(array_int1, array_int1.dtype)\n",
        "\n",
        "array_float1 = np.array([1.1, 2.1, 3.1])\n",
        "array_int2 = array_float1.astype('int32')\n",
        "print(array_int2, array_int2.dtype)"
      ],
      "metadata": {
        "colab": {
          "base_uri": "https://localhost:8080/"
        },
        "id": "7yCQU3jkIfJT",
        "outputId": "335b0248-6d2a-463f-d87f-95970a708a41"
      },
      "execution_count": 5,
      "outputs": [
        {
          "output_type": "stream",
          "name": "stdout",
          "text": [
            "[1. 2. 3.] float64\n",
            "[1 2 3] int32\n",
            "[1 2 3] int32\n"
          ]
        }
      ]
    },
    {
      "cell_type": "markdown",
      "source": [
        "3) ndarray 생성<br/>\n",
        "① arange() : 0부터 (함수인자-1)까지의 값을 1차원 ndarray로 생성<br/>\n",
        "② zeros() : 튜플 형태의 shape값 입력하면 그 차원을 모두 0으로 채운 ndarray 반환<br/>\n",
        "③ ones() : 튜플 형태의 shape값 입력하면 그 차원을 모두 1로 채운 ndarray 반환"
      ],
      "metadata": {
        "id": "vRRhXM4_I9UX"
      }
    },
    {
      "cell_type": "code",
      "source": [
        "# 0부터 stop 값인 10에서 1을 뺀 9까지의 값으로 구성된 1차원 ndarray 생성\n",
        "sequence_array = np.arange(10) \n",
        "print(sequence_array) \n",
        "print(sequence_array.dtype, sequence_array.shape) \n",
        "\n",
        "# int32 0을 3행 2열로 채운 2차원 ndarray 생성\n",
        "zero_array = np.zeros((3,2), dtype='int32') \n",
        "print(zero_array)\n",
        "print(zero_array.dtype, zero_array.shape)\n",
        "\n",
        "# 1을 3행 2열로 채운 2차원 ndarray 생성\n",
        "one_array = np.ones((3,2))\n",
        "print(one_array)\n",
        "print(one_array.dtype, one_array.shape)"
      ],
      "metadata": {
        "colab": {
          "base_uri": "https://localhost:8080/"
        },
        "id": "fXdx5_aAJFJf",
        "outputId": "f72a445e-c714-4172-8c8a-ac554a561dff"
      },
      "execution_count": 8,
      "outputs": [
        {
          "output_type": "stream",
          "name": "stdout",
          "text": [
            "[0 1 2 3 4 5 6 7 8 9]\n",
            "int64 (10,)\n",
            "[[0 0]\n",
            " [0 0]\n",
            " [0 0]]\n",
            "int32 (3, 2)\n",
            "[[1. 1.]\n",
            " [1. 1.]\n",
            " [1. 1.]]\n",
            "float64 (3, 2)\n"
          ]
        }
      ]
    },
    {
      "cell_type": "markdown",
      "source": [
        "4) reshape() <br/>\n",
        "① ndarray의 차원 및 크기 변경<br/>\n",
        "② () 안에 변환 원하는 크기 입력<br/>\n",
        "③ 인자로 -1 적용 시 다른 인자에 맞춰서 shape 계산하여 변환\n",
        "\n"
      ],
      "metadata": {
        "id": "-Oai_f7JJqBd"
      }
    },
    {
      "cell_type": "code",
      "source": [
        "array1 = np.arange(10)\n",
        "print(array1)\n",
        "array2 = array1.reshape(-1, 5)\n",
        "print('array2 shape:', array2.shape)\n",
        "array3 = array1.reshape(-1, 1)\n",
        "print('array3 shape:', array3.shape)"
      ],
      "metadata": {
        "colab": {
          "base_uri": "https://localhost:8080/"
        },
        "id": "8j3xb5BNJ0Qu",
        "outputId": "69890c3f-1603-4b09-ce4c-28cc3ef08214"
      },
      "execution_count": 9,
      "outputs": [
        {
          "output_type": "stream",
          "name": "stdout",
          "text": [
            "[0 1 2 3 4 5 6 7 8 9]\n",
            "array2 shape: (2, 5)\n",
            "array3 shape: (10, 1)\n"
          ]
        }
      ]
    },
    {
      "cell_type": "code",
      "source": [
        "# 차원 맞지 않아 에러 발생\n",
        "array4 = array1.reshape(-1, 4)"
      ],
      "metadata": {
        "colab": {
          "base_uri": "https://localhost:8080/",
          "height": 190
        },
        "id": "EX6XABBrKwTP",
        "outputId": "bb13a9b4-4ae3-4726-deac-0b275dd07b1f"
      },
      "execution_count": 10,
      "outputs": [
        {
          "output_type": "error",
          "ename": "ValueError",
          "evalue": "ignored",
          "traceback": [
            "\u001b[0;31m---------------------------------------------------------------------------\u001b[0m",
            "\u001b[0;31mValueError\u001b[0m                                Traceback (most recent call last)",
            "\u001b[0;32m<ipython-input-10-7f72de84bca1>\u001b[0m in \u001b[0;36m<module>\u001b[0;34m\u001b[0m\n\u001b[1;32m      1\u001b[0m \u001b[0;31m# 차원 맞지 않아 에러 발생\u001b[0m\u001b[0;34m\u001b[0m\u001b[0;34m\u001b[0m\u001b[0;34m\u001b[0m\u001b[0m\n\u001b[0;32m----> 2\u001b[0;31m \u001b[0marray4\u001b[0m \u001b[0;34m=\u001b[0m \u001b[0marray1\u001b[0m\u001b[0;34m.\u001b[0m\u001b[0mreshape\u001b[0m\u001b[0;34m(\u001b[0m\u001b[0;34m-\u001b[0m\u001b[0;36m1\u001b[0m\u001b[0;34m,\u001b[0m \u001b[0;36m4\u001b[0m\u001b[0;34m)\u001b[0m\u001b[0;34m\u001b[0m\u001b[0;34m\u001b[0m\u001b[0m\n\u001b[0m",
            "\u001b[0;31mValueError\u001b[0m: cannot reshape array of size 10 into shape (4)"
          ]
        }
      ]
    },
    {
      "cell_type": "code",
      "source": [
        "array1 = np.arange(8)\n",
        "array3d = array1.reshape((2,2,2))\n",
        "print('array3d:\\n', array3d.tolist())\n",
        "\n",
        "# 3차원 ndarray를 2차원 ndarray로 변환\n",
        "array5 = array3d.reshape(-1, 1)\n",
        "print('array5:\\n', array5.tolist())\n",
        "print('array5 shape:', array5.shape)\n",
        "\n",
        "# 1차원 ndarray를 2차원 ndarray로 변환\n",
        "array6 = array1.reshape(-1, 1)\n",
        "print('array6:\\n', array6.tolist())\n",
        "print('array6 shape:', array6.shape)"
      ],
      "metadata": {
        "colab": {
          "base_uri": "https://localhost:8080/"
        },
        "id": "ZDeasvPZK40m",
        "outputId": "aa869a28-34f6-486f-dbbc-c1880c490117"
      },
      "execution_count": 11,
      "outputs": [
        {
          "output_type": "stream",
          "name": "stdout",
          "text": [
            "array3d:\n",
            " [[[0, 1], [2, 3]], [[4, 5], [6, 7]]]\n",
            "array5:\n",
            " [[0], [1], [2], [3], [4], [5], [6], [7]]\n",
            "array5 shape: (8, 1)\n",
            "array6:\n",
            " [[0], [1], [2], [3], [4], [5], [6], [7]]\n",
            "array6 shape: (8, 1)\n"
          ]
        }
      ]
    },
    {
      "cell_type": "markdown",
      "source": [
        "5) 인덱싱 <br/>\n",
        "① 단일 인덱스\n",
        "- 원하는 위치의 인덱스 값을 [] 안에 입력\n",
        "- 1차원 및 다차원 ndarray에서 특정 데이터만 추출 가능\n",
        "- 인덱스에 마이너스 기호 이용시 맨 뒤부터 데이터 추출\n",
        "- ndarray 내의 데이터값 수정 가능\n"
      ],
      "metadata": {
        "id": "76E3k3InLaZ4"
      }
    },
    {
      "cell_type": "code",
      "source": [
        "# 1부터 9까지의 1차원 ndarray 생성\n",
        "array1 = np.arange(start=1, stop=10)\n",
        "print('array1:', array1)\n",
        "# index는 0부터 시작하므로 array1[2]는 3번째 index 위치의 데이터값을 의미\n",
        "value = print(array1[2])\n",
        "print('value:', value)\n",
        "print(type(value))\n",
        "\n",
        "print('맨 뒤의 값:', array1[-1], ' 맨 뒤에서 두 번째 값:', array1[-2])\n",
        "\n",
        "array1[0] = 9\n",
        "array1[8] = 0\n",
        "print('array1:', array1)\n",
        "\n",
        "array1d = np.arange(start=1, stop=10)\n",
        "array2d = array1d.reshape(3,3)\n",
        "print(array2d)\n",
        "\n",
        "print('(row=0, col=0) index 가리키는 값:', array2d[0,0]) \n",
        "print('(row=0, col=1) index 가리키는 값:', array2d[0,1]) \n",
        "print('(row=1, col=0) index 가리키는 값:', array2d[1,0]) \n",
        "print('(row=2, col=2) index 가리키는 값:', array2d[1,1]) "
      ],
      "metadata": {
        "colab": {
          "base_uri": "https://localhost:8080/"
        },
        "id": "qj0t02_0LiW4",
        "outputId": "db493577-0726-42b9-8d10-0490476b9569"
      },
      "execution_count": 12,
      "outputs": [
        {
          "output_type": "stream",
          "name": "stdout",
          "text": [
            "array1: [1 2 3 4 5 6 7 8 9]\n",
            "3\n",
            "value: None\n",
            "<class 'NoneType'>\n",
            "맨 뒤의 값: 9  맨 뒤에서 두 번째 값: 8\n",
            "array1: [9 2 3 4 5 6 7 8 0]\n",
            "[[1 2 3]\n",
            " [4 5 6]\n",
            " [7 8 9]]\n",
            "(row=0, col=0) index 가리키는 값: 1\n",
            "(row=0, col=1) index 가리키는 값: 2\n",
            "(row=1, col=0) index 가리키는 값: 4\n",
            "(row=2, col=2) index 가리키는 값: 5\n"
          ]
        }
      ]
    },
    {
      "cell_type": "markdown",
      "source": [
        "② 슬라이싱(slicing)\n",
        "- [시작 인덱스 : 종료인덱스] : 시작 인덱스에서 종료인덱스-1 까지 연속데이터 추출\n",
        "- 시작, 종료 인덱스 생략 가능 : 시작 인덱스 생략시 맨 처음 인덱스인 0으로 간주, 종료 인덱스 생략시 맨 마지막 인덱스로 간주\n",
        "- 2차원 ndarray에서 뒤에 오는 인덱스 없애면 1차원 ndarray 반환"
      ],
      "metadata": {
        "id": "OJjsw4uvNBp1"
      }
    },
    {
      "cell_type": "code",
      "source": [
        "array1 = np.arange(start=1, stop=10)\n",
        "array3 = array1[0:3]\n",
        "print(array3)\n",
        "print(type(array3))\n",
        "\n",
        "array4 = array1[:3]\n",
        "print(array4)\n",
        "\n",
        "array5 = array1[3:]\n",
        "print(array5)\n",
        "\n",
        "array6 = array1[:]\n",
        "print(array6)\n",
        "\n",
        "array1d = np.arange(start=1, stop=10)\n",
        "array2d = array1d.reshape(3,3)\n",
        "print('array2d:\\n', array2d)\n",
        "\n",
        "print('array2d[0:2, 0:2] \\n', array2d[0:2, 0:2])\n",
        "print('array2d[1:3, 0:3] \\n', array2d[1:3, 0:3])\n",
        "print('array2d[1:3, :] \\n', array2d[1:3, :])\n",
        "print('array2d[:, :] \\n', array2d[:, :])\n",
        "print('array2d[:2, 1:] \\n', array2d[:2, 1:])\n",
        "print('array2d[:2, 0] \\n', array2d[:2, 0])\n",
        "\n",
        "print(array2d[0])\n",
        "print(array2d[1])\n",
        "print('array2d[0].shape:', array2d[0].shape, 'array2d[1].shape:', array2d[1].shape)"
      ],
      "metadata": {
        "colab": {
          "base_uri": "https://localhost:8080/"
        },
        "id": "N-ZPAh13NGRI",
        "outputId": "c553f74c-172f-4ac5-a130-0096748213a4"
      },
      "execution_count": 14,
      "outputs": [
        {
          "output_type": "stream",
          "name": "stdout",
          "text": [
            "[1 2 3]\n",
            "<class 'numpy.ndarray'>\n",
            "[1 2 3]\n",
            "[4 5 6 7 8 9]\n",
            "[1 2 3 4 5 6 7 8 9]\n",
            "array2d:\n",
            " [[1 2 3]\n",
            " [4 5 6]\n",
            " [7 8 9]]\n",
            "array2d[0:2, 0:2] \n",
            " [[1 2]\n",
            " [4 5]]\n",
            "array2d[1:3, 0:3] \n",
            " [[4 5 6]\n",
            " [7 8 9]]\n",
            "array2d[1:3, :] \n",
            " [[4 5 6]\n",
            " [7 8 9]]\n",
            "array2d[:, :] \n",
            " [[1 2 3]\n",
            " [4 5 6]\n",
            " [7 8 9]]\n",
            "array2d[:2, 1:] \n",
            " [[2 3]\n",
            " [5 6]]\n",
            "array2d[:2, 0] \n",
            " [1 4]\n",
            "[1 2 3]\n",
            "[4 5 6]\n",
            "array2d[0].shape: (3,) array2d[1].shape: (3,)\n"
          ]
        }
      ]
    },
    {
      "cell_type": "markdown",
      "source": [
        "③ 팬시 인덱싱(fancy indexing)\n",
        "\n",
        "- 리스트, ndarray로 인덱스 집합 지정 시 해당 위치의 ndarray 반환"
      ],
      "metadata": {
        "id": "Moa7OtH7OdyK"
      }
    },
    {
      "cell_type": "code",
      "source": [
        "array1d = np.arange(start=1, stop=10)\n",
        "array2d = array1d.reshape(3, 3)\n",
        "\n",
        "array3 = array2d[[0,1], 2]\n",
        "print('array2d[[0, 1], 2] => ', array3.tolist())\n",
        "\n",
        "array4 = array2d[[0,1], 0:2]\n",
        "print('array2d[[0, 1], 0:2] => ', array4.tolist())\n",
        "\n",
        "array5 = array2d[[0,1]] # 첫 번째, 두 번째 행의 모든 열 데이터 추출(열 위치는 따로 지정하지 않았기 때문)\n",
        "print('array2d[[0, 1]] => ', array5.tolist())"
      ],
      "metadata": {
        "colab": {
          "base_uri": "https://localhost:8080/"
        },
        "id": "XQOycpq4Ow6d",
        "outputId": "f2bbd6aa-68e6-4a46-e876-8059e1480bcd"
      },
      "execution_count": 15,
      "outputs": [
        {
          "output_type": "stream",
          "name": "stdout",
          "text": [
            "array2d[[0, 1], 2] =>  [3, 6]\n",
            "array2d[[0, 1], 0:2] =>  [[1, 2], [4, 5]]\n",
            "array2d[[0, 1]] =>  [[1, 2, 3], [4, 5, 6]]\n"
          ]
        }
      ]
    },
    {
      "cell_type": "markdown",
      "source": [
        "④ 불린 인덱싱(boolean indexing)\n",
        "\n",
        "- [] 내에 조건문 지정\n",
        "- 불린 인덱싱 동작 과정 : ndarray 필터링 조건 [] 내에 기재 → True 값에 해당하는 인덱스값만 저장 → 저장된 인덱스 데이터 세트로 ndarray 조회"
      ],
      "metadata": {
        "id": "JtCRnPsNPXiI"
      }
    },
    {
      "cell_type": "code",
      "source": [
        "array1d = np.arange(start=1, stop=10)\n",
        "# [] 내에 array1d>5라는 불린 인덱싱 적용\n",
        "array3 = array1d[array1d>5]\n",
        "print('array1d > 5 불린 인덱싱 결과 값 :', array3)"
      ],
      "metadata": {
        "colab": {
          "base_uri": "https://localhost:8080/"
        },
        "id": "Ohdc1sw9PrHb",
        "outputId": "ec3fd3a2-08a4-47ea-b066-4508d0fa10a5"
      },
      "execution_count": 16,
      "outputs": [
        {
          "output_type": "stream",
          "name": "stdout",
          "text": [
            "array1d > 5 불린 인덱싱 결과 값 : [6 7 8 9]\n"
          ]
        }
      ]
    },
    {
      "cell_type": "code",
      "source": [
        "# 그냥 조건문만 적으면 true/false ndarray 출력\n",
        "array1d>5"
      ],
      "metadata": {
        "colab": {
          "base_uri": "https://localhost:8080/"
        },
        "id": "F3Flgt_mP9eL",
        "outputId": "52a6f4e0-0463-4329-a4a6-a1d007a5ad0e"
      },
      "execution_count": 19,
      "outputs": [
        {
          "output_type": "execute_result",
          "data": {
            "text/plain": [
              "array([False, False, False, False, False,  True,  True,  True,  True])"
            ]
          },
          "metadata": {},
          "execution_count": 19
        }
      ]
    },
    {
      "cell_type": "code",
      "source": [
        "boolean_indexes = np.array([False, False, False, False, False, True, True, True, True])\n",
        "array3 = array1d[boolean_indexes]\n",
        "print('불린 인덱스로 필터링 결과 :', array3)\n",
        "\n",
        "#직접 인덱스 집합 만들어 대입한 것과 결과 동일\n",
        "indexes = np.array([5, 6, 7, 8])\n",
        "array4 = array1d[indexes]\n",
        "print('일반 인덱스로 필터링 결과 :', array4)"
      ],
      "metadata": {
        "colab": {
          "base_uri": "https://localhost:8080/"
        },
        "id": "oJyhldvkQA1k",
        "outputId": "53d6591f-459a-4651-ba25-e45a19de80e1"
      },
      "execution_count": 21,
      "outputs": [
        {
          "output_type": "stream",
          "name": "stdout",
          "text": [
            "불린 인덱스로 필터링 결과 : [6 7 8 9]\n",
            "일반 인덱스로 필터링 결과 : [6 7 8 9]\n"
          ]
        }
      ]
    },
    {
      "cell_type": "markdown",
      "source": [
        "6) 행렬의 정렬<br/>\n",
        "① np.sort() : 원행렬 유지한 상태에서 정렬한 행렬 반환<br/>\n",
        "② ndarray.sort() : 원 행렬 자체를 정렬한 형태로 변환. 반환 값은 none<br/>\n",
        "`* np.sort(), ndarray.sort() 모두 오름차순 정렬이 기본, 내림차순 정렬은 [::-1] 적용`\n",
        "\n",
        "③ np.argsort() : 정렬된 행렬의 원본 행렬 인덱스를 ndarray로 반환"
      ],
      "metadata": {
        "id": "uhM0n5dtQh4c"
      }
    },
    {
      "cell_type": "code",
      "source": [
        "org_array = np.array([3,1,9,5])\n",
        "print('원본 행렬 :', org_array)\n",
        "\n",
        "# np.sort()로 org_array 정렬\n",
        "sort_array1 = np.sort(org_array)\n",
        "print('np.sort() 호출 후 반환된 정렬 행렬:', sort_array1)\n",
        "print('np.sort() 호출 후 원본 행렬:', org_array)\n",
        "\n",
        "# ndarray.sort()로 org_array 정렬\n",
        "sort_array2 = org_array.sort()\n",
        "print('org_array.sort() 호출 후 반환된 정렬 행렬:', sort_array2)\n",
        "print('org_array.sort() 호출 후 원본 행렬:', org_array)"
      ],
      "metadata": {
        "colab": {
          "base_uri": "https://localhost:8080/"
        },
        "id": "XNJ97dpSQuDc",
        "outputId": "2cb3b6cd-e540-4667-8f54-19a4601672b1"
      },
      "execution_count": 22,
      "outputs": [
        {
          "output_type": "stream",
          "name": "stdout",
          "text": [
            "원본 행렬 : [3 1 9 5]\n",
            "np.sort() 호출 후 반환된 정렬 행렬: [1 3 5 9]\n",
            "np.sort() 호출 후 원본 행렬: [3 1 9 5]\n",
            "org_array.sort() 호출 후 반환된 정렬 행렬: None\n",
            "org_array.sort() 호출 후 원본 행렬: [1 3 5 9]\n"
          ]
        }
      ]
    },
    {
      "cell_type": "code",
      "source": [
        "sort_array1_desc = np.sort(org_array[::-1])\n",
        "print('내림차순으로 정렬:', sort_array1_desc)"
      ],
      "metadata": {
        "colab": {
          "base_uri": "https://localhost:8080/"
        },
        "id": "mQ796M3mRZTi",
        "outputId": "e25ec533-39bc-4fb8-e93c-3fdf4f130a9f"
      },
      "execution_count": 24,
      "outputs": [
        {
          "output_type": "stream",
          "name": "stdout",
          "text": [
            "내림차순으로 정렬: [1 3 5 9]\n"
          ]
        }
      ]
    },
    {
      "cell_type": "code",
      "source": [
        "array2d = np.array([[8, 12], [7, 1]])\n",
        "sort_array2d_axis0 = np.sort(array2d, axis=0)\n",
        "print('로우 방향으로 정렬:\\n', sort_array2d_axis0)\n",
        "\n",
        "sort_array2d_axis1 = np.sort(array2d, axis=1)\n",
        "print('칼럼 방향으로 정렬:\\n', sort_array2d_axis1)"
      ],
      "metadata": {
        "colab": {
          "base_uri": "https://localhost:8080/"
        },
        "id": "gCEJuiSpSHQo",
        "outputId": "3ba30acb-ba6f-4ce8-b751-cee9ec3be726"
      },
      "execution_count": 25,
      "outputs": [
        {
          "output_type": "stream",
          "name": "stdout",
          "text": [
            "로우 방향으로 정렬:\n",
            " [[ 7  1]\n",
            " [ 8 12]]\n",
            "칼럼 방향으로 정렬:\n",
            " [[ 8 12]\n",
            " [ 1  7]]\n"
          ]
        }
      ]
    },
    {
      "cell_type": "code",
      "source": [
        "org_array = np.array([3,1,9,5])\n",
        "sort_indices = np.argsort(org_array)\n",
        "print(type(sort_indices))\n",
        "print('행렬 정렬 시 원본 행렬의 인덱스:', sort_indices)\n",
        "\n",
        "sort_indices_desc = np.argsort(org_array)[::-1]\n",
        "print('행렬 내림차순 정렬 시 원본 행렬의 인덱스:', sort_indices_desc)"
      ],
      "metadata": {
        "colab": {
          "base_uri": "https://localhost:8080/"
        },
        "id": "Yn8w10KWUCEr",
        "outputId": "8f837744-1a14-480d-fd84-474aa75585c5"
      },
      "execution_count": 26,
      "outputs": [
        {
          "output_type": "stream",
          "name": "stdout",
          "text": [
            "<class 'numpy.ndarray'>\n",
            "행렬 정렬 시 원본 행렬의 인덱스: [1 0 3 2]\n",
            "행렬 내림차순 정렬 시 원본 행렬의 인덱스: [2 3 0 1]\n"
          ]
        }
      ]
    },
    {
      "cell_type": "code",
      "source": [
        "name_array = np.array(['John', 'Mike', 'Sarah', 'Kate', 'Samuel'])\n",
        "score_array = np.array([78, 95, 84, 98, 88])\n",
        "\n",
        "sort_indices_asc = np.argsort(score_array)\n",
        "print('성적 오름차순 정렬 시 score_array의 인덱스:', sort_indices_asc)\n",
        "print('성적 오름차순 정렬 시 name_array의 이름 출력:', name_array[sort_indices_asc])"
      ],
      "metadata": {
        "colab": {
          "base_uri": "https://localhost:8080/"
        },
        "id": "qN2k8bIGUwIm",
        "outputId": "6c43853f-3620-4dff-c225-29df2e2abd60"
      },
      "execution_count": 27,
      "outputs": [
        {
          "output_type": "stream",
          "name": "stdout",
          "text": [
            "성적 오름차순 정렬 시 score_array의 인덱스: [0 2 4 1 3]\n",
            "성적 오름차순 정렬 시 name_array의 이름 출력: ['John' 'Sarah' 'Samuel' 'Mike' 'Kate']\n"
          ]
        }
      ]
    },
    {
      "cell_type": "markdown",
      "source": [
        "7) 선형대수 연산\n",
        "\n",
        "① np.dot() : 행렬 내적 계산<br/>\n",
        "② np.transpose() : 전치 행렬 계산"
      ],
      "metadata": {
        "id": "I3UQO5ASUg9h"
      }
    },
    {
      "cell_type": "code",
      "source": [
        "A = np.array([[1,2,3], [4,5,6]])\n",
        "B = np.array([[7,8], [9,10], [11,12]])\n",
        "dot_product = np.dot(A,B)\n",
        "print('행렬 내적 결과:\\n', dot_product)\n",
        "\n",
        "C = np.array([[1, 2], [3, 4]])\n",
        "transpose_mat = np.transpose(C)\n",
        "print('A의 전치 행렬:\\n', transpose_mat)"
      ],
      "metadata": {
        "colab": {
          "base_uri": "https://localhost:8080/"
        },
        "id": "NcdwHlH7UuV9",
        "outputId": "d64cc20c-71f5-46eb-dc79-1fd8224d8ea4"
      },
      "execution_count": 28,
      "outputs": [
        {
          "output_type": "stream",
          "name": "stdout",
          "text": [
            "행렬 내적 결과:\n",
            " [[ 58  64]\n",
            " [139 154]]\n",
            "A의 전치 행렬:\n",
            " [[1 3]\n",
            " [2 4]]\n"
          ]
        }
      ]
    }
  ]
}
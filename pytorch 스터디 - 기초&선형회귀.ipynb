{
  "nbformat": 4,
  "nbformat_minor": 0,
  "metadata": {
    "colab": {
      "provenance": [],
      "authorship_tag": "ABX9TyM1eNJVe4rGdZoJKAT1CEkz"
    },
    "kernelspec": {
      "name": "python3",
      "display_name": "Python 3"
    },
    "language_info": {
      "name": "python"
    }
  },
  "cells": [
    {
      "cell_type": "markdown",
      "source": [
        "# 기초"
      ],
      "metadata": {
        "id": "VGXCy72ZpPRk"
      }
    },
    {
      "cell_type": "markdown",
      "source": [
        "## PyTorch 패키지 기본 구성\n",
        "### 1. torch\n",
        "- 메인 네임 스페이스\n",
        "- 텐서 등 다양한 수학함수 포함\n",
        "- Numpy와 유사한 구조\n",
        "\n",
        "### 2. torch.autograd\n",
        "- 자동 미분을 위한 함수 포함\n",
        "  - Function : 자체 미분 가능 함수 정의 시 사용하는 기반 클래스\n",
        "  - 콘텍스트 매니저(enable_grad/no_grad) : 자동 미분의 on/off 제어\n",
        "\n",
        "### 3. torch.nn\n",
        "- 신경망 구축 위한 다양한 데이터 구조, 레이어 등 정의\n",
        "  - ex) RNN, LSTM, ReLu, MSELoss\n",
        "\n",
        "### 4. torch. optim\n",
        "  - 확률적 경사 하강법(SGD) 중심의 파라미터 최적화 알고리즘 구현\n",
        "\n",
        "### 5. torch.utils.data\n",
        "  - SGD의 반복 연산 실행 시 사용하는 미니 배치용 유틸리티 함수 포함\n",
        "\n",
        "### 6. torch.onnx\n",
        "  - ONNX : Open Neural Network Exchange\n",
        "  - 모델 export 시 사용\n",
        "  - 서로 다른 딥러닝 프레임워크 간 모델 공유시 사용"
      ],
      "metadata": {
        "id": "OZlSZwl1qrDc"
      }
    },
    {
      "cell_type": "markdown",
      "source": [
        "## 텐서 조작\n"
      ],
      "metadata": {
        "id": "j8mv2nqJrb50"
      }
    },
    {
      "cell_type": "markdown",
      "source": [
        "### 텐서\n",
        "- 1차원 값 : 벡터\n",
        "- 2차원 값 : 행렬\n",
        "  - batch size : 행의 크기\n",
        "  - dim : 열의 크기\n",
        "- 3차원 이상의의 값 : 텐서\n",
        "  - batch size, dim에 height 추가가"
      ],
      "metadata": {
        "id": "tic_o53Y9R72"
      }
    },
    {
      "cell_type": "markdown",
      "source": [
        "## 파이토치 텐서 선언하기"
      ],
      "metadata": {
        "id": "kL5F67cX19kp"
      }
    },
    {
      "cell_type": "code",
      "source": [
        "# 토치 임포트\n",
        "import torch"
      ],
      "metadata": {
        "id": "UKMyg3lu1_GC"
      },
      "execution_count": 1,
      "outputs": []
    },
    {
      "cell_type": "markdown",
      "source": [
        "### 1D with PyTorch"
      ],
      "metadata": {
        "id": "QvDf0mAe2CFE"
      }
    },
    {
      "cell_type": "code",
      "source": [
        "# 1차원 텐서(=벡터) 생성\n",
        "\n",
        "t = torch.FloatTensor([0., 1., 2., 3., 4., 5., 6.])\n",
        "print(t)"
      ],
      "metadata": {
        "colab": {
          "base_uri": "https://localhost:8080/"
        },
        "id": "jZOwvs_l2HZZ",
        "outputId": "c04c6bf9-ddfa-46df-f059-cedf24845844"
      },
      "execution_count": 2,
      "outputs": [
        {
          "output_type": "stream",
          "name": "stdout",
          "text": [
            "tensor([0., 1., 2., 3., 4., 5., 6.])\n"
          ]
        }
      ]
    },
    {
      "cell_type": "code",
      "source": [
        "print(t.dim())\n",
        "print(t.shape)\n",
        "print(t.size())"
      ],
      "metadata": {
        "colab": {
          "base_uri": "https://localhost:8080/"
        },
        "id": "SQKT34zj2P6e",
        "outputId": "ce4693e2-b898-4a2c-bf80-0af82d0ea5fe"
      },
      "execution_count": 4,
      "outputs": [
        {
          "output_type": "stream",
          "name": "stdout",
          "text": [
            "1\n",
            "torch.Size([7])\n",
            "torch.Size([7])\n"
          ]
        }
      ]
    },
    {
      "cell_type": "code",
      "source": [
        "# 슬라이싱\n",
        "\n",
        "print(t[0], t[1], t[-1]) # 인덱스\n",
        "print(t[2:5], t[4:-1]) # 슬라이싱"
      ],
      "metadata": {
        "colab": {
          "base_uri": "https://localhost:8080/"
        },
        "id": "ir6_52fU2UwQ",
        "outputId": "04c72d61-5ec8-4b24-cb1e-bf91af806cab"
      },
      "execution_count": 5,
      "outputs": [
        {
          "output_type": "stream",
          "name": "stdout",
          "text": [
            "tensor(0.) tensor(1.) tensor(6.)\n",
            "tensor([2., 3., 4.]) tensor([4., 5.])\n"
          ]
        }
      ]
    },
    {
      "cell_type": "markdown",
      "source": [
        "### 브로드캐스팅(Broadcasting)\n",
        "\n",
        "크기 다른 행렬, 텐서에 대해 자동으로 크기를 맞춰 사칙연산을 수행하도록 하는 기능"
      ],
      "metadata": {
        "id": "hePcfX0f2i8p"
      }
    },
    {
      "cell_type": "code",
      "source": [
        "# Vector + scalar\n",
        "\n",
        "m1 = torch.FloatTensor([[1, 2]])\n",
        "m2 = torch.FloatTensor([3])\n",
        "\n",
        "# m2를 [3, 3]으로 바꿔 연산\n",
        "print(m1+m2)"
      ],
      "metadata": {
        "colab": {
          "base_uri": "https://localhost:8080/"
        },
        "id": "S2CI53FE3Ssa",
        "outputId": "8c9e0983-9142-470f-d183-5e6074ba5fcc"
      },
      "execution_count": 7,
      "outputs": [
        {
          "output_type": "stream",
          "name": "stdout",
          "text": [
            "tensor([[4., 5.]])\n"
          ]
        }
      ]
    },
    {
      "cell_type": "code",
      "source": [
        "# Vector 간 연산에서 브로드캐스팅 적용\n",
        "\n",
        "m1 = torch.FloatTensor([[1, 2]]) # 1*2\n",
        "m2 = torch.FloatTensor([[3], [4]]) # 2*1\n",
        "\n",
        "print(m1+m2)"
      ],
      "metadata": {
        "colab": {
          "base_uri": "https://localhost:8080/"
        },
        "id": "AHldep4P3gFc",
        "outputId": "b551e367-c5de-4503-da8d-bf619a24ce8f"
      },
      "execution_count": 8,
      "outputs": [
        {
          "output_type": "stream",
          "name": "stdout",
          "text": [
            "tensor([[4., 5.],\n",
            "        [5., 6.]])\n"
          ]
        }
      ]
    },
    {
      "cell_type": "markdown",
      "source": [
        "### 행렬 곱셈, 원소 별 곱셈\n",
        "- 행렬 곱셈 : `.matmul`\n",
        "- 원소 별 곱셈 : `.mul`"
      ],
      "metadata": {
        "id": "_xFA9w8L4UZK"
      }
    },
    {
      "cell_type": "code",
      "source": [
        "m1 = torch.FloatTensor([[1, 2], [3, 4]])\n",
        "m2 = torch.FloatTensor([[1], [2]])\n",
        "print('Shape of Matrix 1: ', m1.shape) # 2 x 2\n",
        "print('Shape of Matrix 2: ', m2.shape) # 2 x 1\n",
        "print(m1.matmul(m2)) # 2 x 1"
      ],
      "metadata": {
        "colab": {
          "base_uri": "https://localhost:8080/"
        },
        "id": "C-MKj52y4-_2",
        "outputId": "7c3b3d87-a635-406b-9f8e-67518cd9ce32"
      },
      "execution_count": 9,
      "outputs": [
        {
          "output_type": "stream",
          "name": "stdout",
          "text": [
            "Shape of Matrix 1:  torch.Size([2, 2])\n",
            "Shape of Matrix 2:  torch.Size([2, 1])\n",
            "tensor([[ 5.],\n",
            "        [11.]])\n"
          ]
        }
      ]
    },
    {
      "cell_type": "code",
      "source": [
        "m1 = torch.FloatTensor([[1, 2], [3, 4]])\n",
        "m2 = torch.FloatTensor([[1], [2]])\n",
        "print('Shape of Matrix 1: ', m1.shape) # 2 x 2\n",
        "print('Shape of Matrix 2: ', m2.shape) # 2 x 1\n",
        "print(m1 * m2) # 2 x 2\n",
        "print(m1.mul(m2))"
      ],
      "metadata": {
        "colab": {
          "base_uri": "https://localhost:8080/"
        },
        "id": "tf-fFIDY5IKv",
        "outputId": "a55e1034-a2ec-42db-b96a-f7f01ce3c90f"
      },
      "execution_count": 10,
      "outputs": [
        {
          "output_type": "stream",
          "name": "stdout",
          "text": [
            "Shape of Matrix 1:  torch.Size([2, 2])\n",
            "Shape of Matrix 2:  torch.Size([2, 1])\n",
            "tensor([[1., 2.],\n",
            "        [6., 8.]])\n",
            "tensor([[1., 2.],\n",
            "        [6., 8.]])\n"
          ]
        }
      ]
    },
    {
      "cell_type": "markdown",
      "source": [
        "### 평균"
      ],
      "metadata": {
        "id": "t8V4PRVj5iSa"
      }
    },
    {
      "cell_type": "code",
      "source": [
        "t = torch.FloatTensor([1, 2])\n",
        "print(t.mean())"
      ],
      "metadata": {
        "colab": {
          "base_uri": "https://localhost:8080/"
        },
        "id": "WlcMaQdF5wBB",
        "outputId": "9a26c45a-4906-4e5f-93d6-2bd719d2b237"
      },
      "execution_count": 11,
      "outputs": [
        {
          "output_type": "stream",
          "name": "stdout",
          "text": [
            "tensor(1.5000)\n"
          ]
        }
      ]
    },
    {
      "cell_type": "code",
      "source": [
        "# 2차원 행렬 평균 : 4개 원소 평균\n",
        "t = torch.FloatTensor([[1, 2], [3, 4]])\n",
        "print(t)\n",
        "print(t.mean())"
      ],
      "metadata": {
        "colab": {
          "base_uri": "https://localhost:8080/"
        },
        "id": "LSL3z52J50Kc",
        "outputId": "0110b34e-6a7f-4c33-cbf2-5cfcbcd742dd"
      },
      "execution_count": 12,
      "outputs": [
        {
          "output_type": "stream",
          "name": "stdout",
          "text": [
            "tensor([[1., 2.],\n",
            "        [3., 4.]])\n",
            "tensor(2.5000)\n"
          ]
        }
      ]
    },
    {
      "cell_type": "code",
      "source": [
        "# dim을 인자로 주는 경우\n",
        "\n",
        "print(t.mean(dim=0))"
      ],
      "metadata": {
        "colab": {
          "base_uri": "https://localhost:8080/"
        },
        "id": "ZD9LIeRZ6T-e",
        "outputId": "89197a80-b8e3-45b3-e6b5-4ad05325293b"
      },
      "execution_count": 13,
      "outputs": [
        {
          "output_type": "stream",
          "name": "stdout",
          "text": [
            "tensor([2., 3.])\n"
          ]
        }
      ]
    },
    {
      "cell_type": "markdown",
      "source": [
        "`dim=0` : 첫번째 차원(= 행)을 제거하겠다 <br/>\n",
        "열의 차원을 보존하며 평균 연산"
      ],
      "metadata": {
        "id": "C6mXdeJ96Zsd"
      }
    },
    {
      "cell_type": "code",
      "source": [
        "print(t.mean(dim=1))"
      ],
      "metadata": {
        "colab": {
          "base_uri": "https://localhost:8080/"
        },
        "id": "Ay7FuBgs62R6",
        "outputId": "c2daa03e-689a-44d1-f296-ff3134fc66c3"
      },
      "execution_count": 14,
      "outputs": [
        {
          "output_type": "stream",
          "name": "stdout",
          "text": [
            "tensor([1.5000, 3.5000])\n"
          ]
        }
      ]
    },
    {
      "cell_type": "markdown",
      "source": [
        "dim=1 : 두번째 차원(= 열)을 제거하겠다 <br/>\n",
        "열을 제거하여 평균 연산"
      ],
      "metadata": {
        "id": "YHmuW4WV65Er"
      }
    },
    {
      "cell_type": "code",
      "source": [
        "print(t.mean(dim=-1))"
      ],
      "metadata": {
        "colab": {
          "base_uri": "https://localhost:8080/"
        },
        "id": "MBvGA66u7BaM",
        "outputId": "211c0b7e-6404-476a-c990-61b663e1f05f"
      },
      "execution_count": 16,
      "outputs": [
        {
          "output_type": "stream",
          "name": "stdout",
          "text": [
            "tensor([1.5000, 3.5000])\n"
          ]
        }
      ]
    },
    {
      "cell_type": "markdown",
      "source": [
        "dim=-1 : 마지막 차원(= 열)을 제거하겠다 <br/>\n",
        "열을 제거하여 평균 연산"
      ],
      "metadata": {
        "id": "7bM9waKt7L8n"
      }
    },
    {
      "cell_type": "markdown",
      "source": [
        "### 덧셈\n",
        "평균과 동일한 알고리즘"
      ],
      "metadata": {
        "id": "4kTQ6-cN7aZ5"
      }
    },
    {
      "cell_type": "code",
      "source": [
        "t = torch.FloatTensor([[1, 2], [3, 4]])\n",
        "print(t)"
      ],
      "metadata": {
        "colab": {
          "base_uri": "https://localhost:8080/"
        },
        "id": "4lHLcGUS7fN2",
        "outputId": "76ec713a-b7c0-4193-f588-9d9f84be841b"
      },
      "execution_count": 17,
      "outputs": [
        {
          "output_type": "stream",
          "name": "stdout",
          "text": [
            "tensor([[1., 2.],\n",
            "        [3., 4.]])\n"
          ]
        }
      ]
    },
    {
      "cell_type": "code",
      "source": [
        "print(t.sum()) # 단순히 원소 전체의 덧셈을 수행\n",
        "print(t.sum(dim=0)) # 행을 제거\n",
        "print(t.sum(dim=1)) # 열을 제거\n",
        "print(t.sum(dim=-1)) # 열을 제거"
      ],
      "metadata": {
        "colab": {
          "base_uri": "https://localhost:8080/"
        },
        "id": "i_ZJ_ZTt7ggh",
        "outputId": "c52f5079-e254-437c-8ddf-9c4106a7dca2"
      },
      "execution_count": 18,
      "outputs": [
        {
          "output_type": "stream",
          "name": "stdout",
          "text": [
            "tensor(10.)\n",
            "tensor([4., 6.])\n",
            "tensor([3., 7.])\n",
            "tensor([3., 7.])\n"
          ]
        }
      ]
    },
    {
      "cell_type": "markdown",
      "source": [
        "### Max, ArgMax\n",
        "- Max : 원소 中 최대값 return\n",
        "- ArgMax : 최대값을 가진 원소의 인덱스 return"
      ],
      "metadata": {
        "id": "jt1q3GQn7hX3"
      }
    },
    {
      "cell_type": "code",
      "source": [
        "t = torch.FloatTensor([[1, 2], [3, 4]])\n",
        "print(t)\n",
        "print(t.max())"
      ],
      "metadata": {
        "colab": {
          "base_uri": "https://localhost:8080/"
        },
        "id": "ShPkZsCh7o9n",
        "outputId": "fb6510a5-98ff-426b-fe60-9388f24d3928"
      },
      "execution_count": 19,
      "outputs": [
        {
          "output_type": "stream",
          "name": "stdout",
          "text": [
            "tensor([[1., 2.],\n",
            "        [3., 4.]])\n",
            "tensor(4.)\n"
          ]
        }
      ]
    },
    {
      "cell_type": "code",
      "source": [
        "print(t.max(dim=0)) # Returns two values: max and argmax"
      ],
      "metadata": {
        "colab": {
          "base_uri": "https://localhost:8080/"
        },
        "id": "y82S2o2r8A57",
        "outputId": "f0696cd3-4251-48ef-9ddd-7335e55bdfa4"
      },
      "execution_count": 20,
      "outputs": [
        {
          "output_type": "stream",
          "name": "stdout",
          "text": [
            "torch.return_types.max(\n",
            "values=tensor([3., 4.]),\n",
            "indices=tensor([1, 1]))\n"
          ]
        }
      ]
    },
    {
      "cell_type": "markdown",
      "source": [
        "max에 `dim`인자 주면 argmax도 함께 return <br/>\n"
      ],
      "metadata": {
        "id": "iVqF-rUG8HZy"
      }
    },
    {
      "cell_type": "code",
      "source": [
        "# argmax값만 return받고 싶은 경우 : return값에도 인덱스 부여\n",
        "\n",
        "print('Max: ', t.max(dim=0)[0])\n",
        "print('Argmax: ', t.max(dim=0)[1])"
      ],
      "metadata": {
        "colab": {
          "base_uri": "https://localhost:8080/"
        },
        "id": "od9WJmFK86PX",
        "outputId": "dbe92e46-2c7a-434f-c4ff-e8691a7547e2"
      },
      "execution_count": 21,
      "outputs": [
        {
          "output_type": "stream",
          "name": "stdout",
          "text": [
            "Max:  tensor([3., 4.])\n",
            "Argmax:  tensor([1, 1])\n"
          ]
        }
      ]
    },
    {
      "cell_type": "markdown",
      "source": [
        "### 뷰(View)\n",
        "- numpy의 reshape와 같은 역할"
      ],
      "metadata": {
        "id": "xDd7mZ6X9A_9"
      }
    },
    {
      "cell_type": "code",
      "source": [
        "import numpy as np\n",
        "\n",
        "t = np.array([[[0, 1, 2],\n",
        "               [3, 4, 5]],\n",
        "              [[6, 7, 8],\n",
        "               [9, 10, 11]]])\n",
        "ft = torch.FloatTensor(t)"
      ],
      "metadata": {
        "id": "pqC6cuhH9fnN"
      },
      "execution_count": 23,
      "outputs": []
    },
    {
      "cell_type": "code",
      "source": [
        "print(ft.shape)"
      ],
      "metadata": {
        "colab": {
          "base_uri": "https://localhost:8080/"
        },
        "id": "4LzP2Z7a9gjy",
        "outputId": "117956a0-a697-4b11-bf28-4913ac509c6d"
      },
      "execution_count": 24,
      "outputs": [
        {
          "output_type": "stream",
          "name": "stdout",
          "text": [
            "torch.Size([2, 2, 3])\n"
          ]
        }
      ]
    },
    {
      "cell_type": "code",
      "source": [
        "print(ft.view([-1, 3])) # ft라는 텐서를 (?, 3)의 크기로 변경\n",
        "print(ft.view([-1, 3]).shape)"
      ],
      "metadata": {
        "colab": {
          "base_uri": "https://localhost:8080/"
        },
        "id": "zdmPPsV_9lph",
        "outputId": "3c4c4ad9-fd4b-46a6-9e64-7ee9d776e794"
      },
      "execution_count": 25,
      "outputs": [
        {
          "output_type": "stream",
          "name": "stdout",
          "text": [
            "tensor([[ 0.,  1.,  2.],\n",
            "        [ 3.,  4.,  5.],\n",
            "        [ 6.,  7.,  8.],\n",
            "        [ 9., 10., 11.]])\n",
            "torch.Size([4, 3])\n"
          ]
        }
      ]
    },
    {
      "cell_type": "code",
      "source": [
        "print(ft.view([-1, 1, 3]))\n",
        "print(ft.view([-1, 1, 3]).shape)"
      ],
      "metadata": {
        "colab": {
          "base_uri": "https://localhost:8080/"
        },
        "id": "i-bLPble97Rt",
        "outputId": "56c83225-eba1-4dcf-c86c-16aa8d5c7124"
      },
      "execution_count": 26,
      "outputs": [
        {
          "output_type": "stream",
          "name": "stdout",
          "text": [
            "tensor([[[ 0.,  1.,  2.]],\n",
            "\n",
            "        [[ 3.,  4.,  5.]],\n",
            "\n",
            "        [[ 6.,  7.,  8.]],\n",
            "\n",
            "        [[ 9., 10., 11.]]])\n",
            "torch.Size([4, 1, 3])\n"
          ]
        }
      ]
    },
    {
      "cell_type": "markdown",
      "source": [
        "### 스퀴즈(Squeeze)\n",
        "- 차원이 1인 경우, 해당 차원 제거"
      ],
      "metadata": {
        "id": "S_pKGTWE9-4w"
      }
    },
    {
      "cell_type": "code",
      "source": [
        "ft = torch.FloatTensor([[0], [1], [2]])\n",
        "print(ft)\n",
        "print(ft.shape)\n",
        "\n",
        "print('sqeeze 결과 :', ft.squeeze())\n",
        "print('sqeeze 후 shape :', ft.squeeze().shape)"
      ],
      "metadata": {
        "colab": {
          "base_uri": "https://localhost:8080/"
        },
        "id": "Mx3DdZCA-DdR",
        "outputId": "3113b21b-1a4b-4e2f-cba1-aa1fce625edb"
      },
      "execution_count": 27,
      "outputs": [
        {
          "output_type": "stream",
          "name": "stdout",
          "text": [
            "tensor([[0.],\n",
            "        [1.],\n",
            "        [2.]])\n",
            "torch.Size([3, 1])\n",
            "sqeeze 결과 : tensor([0., 1., 2.])\n",
            "sqeeze 후 shape : torch.Size([3])\n"
          ]
        }
      ]
    },
    {
      "cell_type": "markdown",
      "source": [
        "### 언스퀴즈(Unsqueeze)\n",
        "- 특정 위치에 1인 차원 추가\n"
      ],
      "metadata": {
        "id": "GVWZuLsn-MYV"
      }
    },
    {
      "cell_type": "code",
      "source": [
        "ft = torch.Tensor([0, 1, 2])\n",
        "print(ft.shape)"
      ],
      "metadata": {
        "colab": {
          "base_uri": "https://localhost:8080/"
        },
        "id": "D85P0A6W-ah_",
        "outputId": "4a746e0c-7e64-40ef-c48e-94e8f09ed01a"
      },
      "execution_count": 28,
      "outputs": [
        {
          "output_type": "stream",
          "name": "stdout",
          "text": [
            "torch.Size([3])\n"
          ]
        }
      ]
    },
    {
      "cell_type": "code",
      "source": [
        "print(ft.unsqueeze(0)) # 인덱스가 0부터 시작하므로 0은 첫번째 차원을 의미한다.\n",
        "print(ft.unsqueeze(0).shape)"
      ],
      "metadata": {
        "colab": {
          "base_uri": "https://localhost:8080/"
        },
        "id": "thyShkbi-ckt",
        "outputId": "ec50f68a-4f75-41b0-a58b-9b3e22f37e6e"
      },
      "execution_count": 29,
      "outputs": [
        {
          "output_type": "stream",
          "name": "stdout",
          "text": [
            "tensor([[0., 1., 2.]])\n",
            "torch.Size([1, 3])\n"
          ]
        }
      ]
    },
    {
      "cell_type": "code",
      "source": [
        "# View로 똑같은 내용 구현\n",
        "\n",
        "print(ft.view(1, -1))\n",
        "print(ft.view(1, -1).shape)\n"
      ],
      "metadata": {
        "colab": {
          "base_uri": "https://localhost:8080/"
        },
        "id": "f3l9MCAm-eVu",
        "outputId": "61965795-b5c3-4f50-eb0e-2dc1d02b2fce"
      },
      "execution_count": 30,
      "outputs": [
        {
          "output_type": "stream",
          "name": "stdout",
          "text": [
            "tensor([[0., 1., 2.]])\n",
            "torch.Size([1, 3])\n"
          ]
        }
      ]
    },
    {
      "cell_type": "code",
      "source": [
        "# unsqueeze 인자로 1 할당\n",
        "\n",
        "print(ft.unsqueeze(1))\n",
        "print(ft.unsqueeze(1).shape)"
      ],
      "metadata": {
        "colab": {
          "base_uri": "https://localhost:8080/"
        },
        "id": "kOa_vweo-qT4",
        "outputId": "015dac81-889c-4b96-80e0-cbbbf355bdab"
      },
      "execution_count": 31,
      "outputs": [
        {
          "output_type": "stream",
          "name": "stdout",
          "text": [
            "tensor([[0.],\n",
            "        [1.],\n",
            "        [2.]])\n",
            "torch.Size([3, 1])\n"
          ]
        }
      ]
    },
    {
      "cell_type": "markdown",
      "source": [
        "### 타입캐스팅"
      ],
      "metadata": {
        "id": "2GpuKGR_R9gP"
      }
    },
    {
      "cell_type": "code",
      "source": [
        "lt = torch.LongTensor([1, 2, 3, 4])\n",
        "print(lt)\n",
        "print(lt.float())"
      ],
      "metadata": {
        "colab": {
          "base_uri": "https://localhost:8080/"
        },
        "id": "B3ENomDRSI0b",
        "outputId": "b791e2b0-3327-47c1-f975-dc949af37620"
      },
      "execution_count": 33,
      "outputs": [
        {
          "output_type": "stream",
          "name": "stdout",
          "text": [
            "tensor([1, 2, 3, 4])\n",
            "tensor([1., 2., 3., 4.])\n"
          ]
        }
      ]
    },
    {
      "cell_type": "code",
      "source": [
        "bt = torch.ByteTensor([True, False, False, True])\n",
        "print(bt)\n",
        "print(bt.long())\n",
        "print(bt.float())"
      ],
      "metadata": {
        "colab": {
          "base_uri": "https://localhost:8080/"
        },
        "id": "NRJ7PpXUSKcX",
        "outputId": "b65a4186-1391-4e21-b8a1-fbd510f6786b"
      },
      "execution_count": 34,
      "outputs": [
        {
          "output_type": "stream",
          "name": "stdout",
          "text": [
            "tensor([1, 0, 0, 1], dtype=torch.uint8)\n",
            "tensor([1, 0, 0, 1])\n",
            "tensor([1., 0., 0., 1.])\n"
          ]
        }
      ]
    },
    {
      "cell_type": "markdown",
      "source": [
        "### concatenate\n",
        "\n",
        "-`torch.cat` : 늘릴 차원을 인자로 할당"
      ],
      "metadata": {
        "id": "VK-1pSykSPfG"
      }
    },
    {
      "cell_type": "code",
      "source": [
        "x = torch.FloatTensor([[1, 2], [3, 4]])\n",
        "y = torch.FloatTensor([[5, 6], [7, 8]])\n",
        "\n",
        "print(torch.cat([x, y], dim=0))"
      ],
      "metadata": {
        "colab": {
          "base_uri": "https://localhost:8080/"
        },
        "id": "60lUOve7SUwT",
        "outputId": "1632cb8a-9fd1-4296-a014-b05f785587c0"
      },
      "execution_count": 35,
      "outputs": [
        {
          "output_type": "stream",
          "name": "stdout",
          "text": [
            "tensor([[1., 2.],\n",
            "        [3., 4.],\n",
            "        [5., 6.],\n",
            "        [7., 8.]])\n"
          ]
        }
      ]
    },
    {
      "cell_type": "code",
      "source": [
        "print(torch.cat([x, y], dim=1))"
      ],
      "metadata": {
        "colab": {
          "base_uri": "https://localhost:8080/"
        },
        "id": "c8-WXLPjSXd7",
        "outputId": "dec5574e-0de4-48cb-a6eb-7eab77db370d"
      },
      "execution_count": 36,
      "outputs": [
        {
          "output_type": "stream",
          "name": "stdout",
          "text": [
            "tensor([[1., 2., 5., 6.],\n",
            "        [3., 4., 7., 8.]])\n"
          ]
        }
      ]
    },
    {
      "cell_type": "markdown",
      "source": [
        "### Stacking"
      ],
      "metadata": {
        "id": "YfesCKxISf12"
      }
    },
    {
      "cell_type": "code",
      "source": [
        "x = torch.FloatTensor([1, 4])\n",
        "y = torch.FloatTensor([2, 5])\n",
        "z = torch.FloatTensor([3, 6])\n",
        "\n",
        "print(torch.stack([x, y, z]))"
      ],
      "metadata": {
        "colab": {
          "base_uri": "https://localhost:8080/"
        },
        "id": "Anf6utjSSipn",
        "outputId": "75b71fa2-0af8-4064-cfd7-257ad4c9febb"
      },
      "execution_count": 37,
      "outputs": [
        {
          "output_type": "stream",
          "name": "stdout",
          "text": [
            "tensor([[1., 4.],\n",
            "        [2., 5.],\n",
            "        [3., 6.]])\n"
          ]
        }
      ]
    },
    {
      "cell_type": "code",
      "source": [
        "print(torch.stack([x, y, z], dim=1))"
      ],
      "metadata": {
        "colab": {
          "base_uri": "https://localhost:8080/"
        },
        "id": "22FQ7wIMSlJk",
        "outputId": "3b4a3f29-6741-4c58-8d3c-ed654b3da56c"
      },
      "execution_count": 38,
      "outputs": [
        {
          "output_type": "stream",
          "name": "stdout",
          "text": [
            "tensor([[1., 2., 3.],\n",
            "        [4., 5., 6.]])\n"
          ]
        }
      ]
    },
    {
      "cell_type": "markdown",
      "source": [
        "# 선형 회귀"
      ],
      "metadata": {
        "id": "GlPC5UYcSp7t"
      }
    },
    {
      "cell_type": "markdown",
      "source": [
        "## 비용함수\n",
        "- 비용 함수(cost function) = 손실 함수(loss function) = 오차 함수(error function) = 목적 함수(objective function)\n",
        "\n",
        "- 경사하강법 : 가장 기본적인 Optimizer 알고리즘\n"
      ],
      "metadata": {
        "id": "KSde0e-6Szn4"
      }
    },
    {
      "cell_type": "markdown",
      "source": [
        "### 파이토치에서 선형회귀 구현하기"
      ],
      "metadata": {
        "id": "H_PW7qyNW_QA"
      }
    },
    {
      "cell_type": "code",
      "source": [
        "import torch\n",
        "import torch.nn as nn\n",
        "import torch.nn.functional as F\n",
        "import torch.optim as optim"
      ],
      "metadata": {
        "id": "o98Eg4xMTUXO"
      },
      "execution_count": 39,
      "outputs": []
    },
    {
      "cell_type": "code",
      "source": [
        "x_train = torch.FloatTensor([[1], [2], [3]])\n",
        "y_train = torch.FloatTensor([[2], [4], [6]])"
      ],
      "metadata": {
        "id": "v2fiRRsVTaDn"
      },
      "execution_count": 40,
      "outputs": []
    },
    {
      "cell_type": "code",
      "source": [
        "# 가중치 W를 0으로 초기화하고 학습을 통해 값이 변경되는 변수임을 명시함.\n",
        "W = torch.zeros(1, requires_grad=True) \n",
        "# 가중치 W를 출력\n",
        "print(W) "
      ],
      "metadata": {
        "colab": {
          "base_uri": "https://localhost:8080/"
        },
        "id": "p8CZ8laeTctG",
        "outputId": "c972c7ca-becd-466c-8482-93ceea5a47f1"
      },
      "execution_count": 41,
      "outputs": [
        {
          "output_type": "stream",
          "name": "stdout",
          "text": [
            "tensor([0.], requires_grad=True)\n"
          ]
        }
      ]
    },
    {
      "cell_type": "code",
      "source": [
        "# 편향도 0으로 초기화\n",
        "b = torch.zeros(1, requires_grad=True)\n",
        "print(b)"
      ],
      "metadata": {
        "colab": {
          "base_uri": "https://localhost:8080/"
        },
        "id": "iCuYubbKThS7",
        "outputId": "1f79b7c4-13cd-494c-fc3b-c0109c368bae"
      },
      "execution_count": 43,
      "outputs": [
        {
          "output_type": "stream",
          "name": "stdout",
          "text": [
            "tensor([0.], requires_grad=True)\n"
          ]
        }
      ]
    },
    {
      "cell_type": "code",
      "source": [
        "# 가설 선언\n",
        "hypothesis = x_train * W + b\n",
        "print(hypothesis)"
      ],
      "metadata": {
        "colab": {
          "base_uri": "https://localhost:8080/"
        },
        "id": "u8PRBzT7Tj3V",
        "outputId": "487a07fb-58f1-4ece-e540-0747592e6458"
      },
      "execution_count": 44,
      "outputs": [
        {
          "output_type": "stream",
          "name": "stdout",
          "text": [
            "tensor([[0.],\n",
            "        [0.],\n",
            "        [0.]], grad_fn=<AddBackward0>)\n"
          ]
        }
      ]
    },
    {
      "cell_type": "code",
      "source": [
        "# 비용함수 선언\n",
        "\n",
        "cost = torch.mean((hypothesis - y_train) ** 2) \n",
        "print(cost)"
      ],
      "metadata": {
        "colab": {
          "base_uri": "https://localhost:8080/"
        },
        "id": "urSERYqBTpfI",
        "outputId": "4cb62606-b000-4689-af3b-99fdf452967d"
      },
      "execution_count": 45,
      "outputs": [
        {
          "output_type": "stream",
          "name": "stdout",
          "text": [
            "tensor(18.6667, grad_fn=<MeanBackward0>)\n"
          ]
        }
      ]
    },
    {
      "cell_type": "code",
      "source": [
        "# 경사하강법 구현\n",
        "\n",
        "optimizer = optim.SGD([W, b], lr=0.01)"
      ],
      "metadata": {
        "id": "LWCdPI4GTsc0"
      },
      "execution_count": 46,
      "outputs": []
    },
    {
      "cell_type": "code",
      "source": [
        "# gradient를 0으로 초기화\n",
        "optimizer.zero_grad() \n",
        "# 비용 함수를 미분하여 gradient 계산\n",
        "cost.backward() \n",
        "# W와 b를 업데이트\n",
        "optimizer.step() "
      ],
      "metadata": {
        "id": "IbqFbOucTwk0"
      },
      "execution_count": 47,
      "outputs": []
    },
    {
      "cell_type": "code",
      "source": [
        "# 데이터\n",
        "x_train = torch.FloatTensor([[1], [2], [3]])\n",
        "y_train = torch.FloatTensor([[2], [4], [6]])\n",
        "# 모델 초기화\n",
        "W = torch.zeros(1, requires_grad=True)\n",
        "b = torch.zeros(1, requires_grad=True)\n",
        "# optimizer 설정\n",
        "optimizer = optim.SGD([W, b], lr=0.01)\n",
        "\n",
        "nb_epochs = 1999 # 원하는만큼 경사 하강법을 반복\n",
        "for epoch in range(nb_epochs + 1):\n",
        "\n",
        "    # H(x) 계산\n",
        "    hypothesis = x_train * W + b\n",
        "\n",
        "    # cost 계산\n",
        "    cost = torch.mean((hypothesis - y_train) ** 2)\n",
        "\n",
        "    # cost로 H(x) 개선\n",
        "    optimizer.zero_grad()\n",
        "    cost.backward()\n",
        "    optimizer.step()\n",
        "\n",
        "    # 100번마다 로그 출력\n",
        "    if epoch % 100 == 0:\n",
        "        print('Epoch {:4d}/{} W: {:.3f}, b: {:.3f} Cost: {:.6f}'.format(\n",
        "            epoch, nb_epochs, W.item(), b.item(), cost.item()\n",
        "        ))"
      ],
      "metadata": {
        "colab": {
          "base_uri": "https://localhost:8080/"
        },
        "id": "9pwJhP2tT0Sp",
        "outputId": "9f13bc65-6268-4099-a73a-f6532a0299b4"
      },
      "execution_count": 48,
      "outputs": [
        {
          "output_type": "stream",
          "name": "stdout",
          "text": [
            "Epoch    0/1999 W: 0.187, b: 0.080 Cost: 18.666666\n",
            "Epoch  100/1999 W: 1.746, b: 0.578 Cost: 0.048171\n",
            "Epoch  200/1999 W: 1.800, b: 0.454 Cost: 0.029767\n",
            "Epoch  300/1999 W: 1.843, b: 0.357 Cost: 0.018394\n",
            "Epoch  400/1999 W: 1.876, b: 0.281 Cost: 0.011366\n",
            "Epoch  500/1999 W: 1.903, b: 0.221 Cost: 0.007024\n",
            "Epoch  600/1999 W: 1.924, b: 0.174 Cost: 0.004340\n",
            "Epoch  700/1999 W: 1.940, b: 0.136 Cost: 0.002682\n",
            "Epoch  800/1999 W: 1.953, b: 0.107 Cost: 0.001657\n",
            "Epoch  900/1999 W: 1.963, b: 0.084 Cost: 0.001024\n",
            "Epoch 1000/1999 W: 1.971, b: 0.066 Cost: 0.000633\n",
            "Epoch 1100/1999 W: 1.977, b: 0.052 Cost: 0.000391\n",
            "Epoch 1200/1999 W: 1.982, b: 0.041 Cost: 0.000242\n",
            "Epoch 1300/1999 W: 1.986, b: 0.032 Cost: 0.000149\n",
            "Epoch 1400/1999 W: 1.989, b: 0.025 Cost: 0.000092\n",
            "Epoch 1500/1999 W: 1.991, b: 0.020 Cost: 0.000057\n",
            "Epoch 1600/1999 W: 1.993, b: 0.016 Cost: 0.000035\n",
            "Epoch 1700/1999 W: 1.995, b: 0.012 Cost: 0.000022\n",
            "Epoch 1800/1999 W: 1.996, b: 0.010 Cost: 0.000013\n",
            "Epoch 1900/1999 W: 1.997, b: 0.008 Cost: 0.000008\n"
          ]
        }
      ]
    },
    {
      "cell_type": "markdown",
      "source": [
        "### 자동 미분(Autograd) 실습하기"
      ],
      "metadata": {
        "id": "hTOiXoKeT2N1"
      }
    },
    {
      "cell_type": "code",
      "source": [
        "# 임의의 스칼라 텐서 w 선언 : requires_grad=True 설정하여 w에 대한 미분값 저장\n",
        "w = torch.tensor(2.0, requires_grad=True)\n",
        "\n",
        "# 수식 정의\n",
        "y = w**2\n",
        "z = 2*y + 5\n",
        "\n",
        "# backward() : 해당 수식의 w에 대한 기울기 계산\n",
        "z.backward()\n",
        "\n",
        "print('수식을 w로 미분한 값 : {}'.format(w.grad))"
      ],
      "metadata": {
        "colab": {
          "base_uri": "https://localhost:8080/"
        },
        "id": "PdQnzd8XXDs_",
        "outputId": "cfd42214-17d5-46d6-9ec6-ec7b48e90612"
      },
      "execution_count": 49,
      "outputs": [
        {
          "output_type": "stream",
          "name": "stdout",
          "text": [
            "수식을 w로 미분한 값 : 8.0\n"
          ]
        }
      ]
    },
    {
      "cell_type": "markdown",
      "source": [
        "### 다중선형회귀 구현하기"
      ],
      "metadata": {
        "id": "Nn-QwF8PXUdz"
      }
    },
    {
      "cell_type": "code",
      "source": [
        "# x 3개 선언\n",
        "# 훈련 데이터\n",
        "x1_train = torch.FloatTensor([[73], [93], [89], [96], [73]])\n",
        "x2_train = torch.FloatTensor([[80], [88], [91], [98], [66]])\n",
        "x3_train = torch.FloatTensor([[75], [93], [90], [100], [70]])\n",
        "y_train = torch.FloatTensor([[152], [185], [180], [196], [142]])\n",
        "\n",
        "# 가중치 w, 편향 b 선언\n",
        "w1 = torch.zeros(1, requires_grad=True)\n",
        "w2 = torch.zeros(1, requires_grad=True)\n",
        "w3 = torch.zeros(1, requires_grad=True)\n",
        "b = torch.zeros(1, requires_grad=True)\n",
        "\n",
        "# 가설, 비용함수, 옵티마이저 선언 후 경사하강법 1000회 반복\n",
        "# optimizer 설정\n",
        "optimizer = optim.SGD([w1, w2, w3, b], lr=1e-5)\n",
        "\n",
        "nb_epochs = 1000\n",
        "for epoch in range(nb_epochs + 1):\n",
        "\n",
        "    # H(x) 계산\n",
        "    hypothesis = x1_train * w1 + x2_train * w2 + x3_train * w3 + b\n",
        "\n",
        "    # cost 계산\n",
        "    cost = torch.mean((hypothesis - y_train) ** 2)\n",
        "\n",
        "    # cost로 H(x) 개선\n",
        "    optimizer.zero_grad()\n",
        "    cost.backward()\n",
        "    optimizer.step()\n",
        "\n",
        "    # 100번마다 로그 출력\n",
        "    if epoch % 100 == 0:\n",
        "        print('Epoch {:4d}/{} w1: {:.3f} w2: {:.3f} w3: {:.3f} b: {:.3f} Cost: {:.6f}'.format(\n",
        "            epoch, nb_epochs, w1.item(), w2.item(), w3.item(), b.item(), cost.item()\n",
        "        ))"
      ],
      "metadata": {
        "colab": {
          "base_uri": "https://localhost:8080/"
        },
        "id": "-t8bKUHtXZ0S",
        "outputId": "8a8d4a8e-6cc5-4b23-b5f7-786ace757f05"
      },
      "execution_count": 50,
      "outputs": [
        {
          "output_type": "stream",
          "name": "stdout",
          "text": [
            "Epoch    0/1000 w1: 0.294 w2: 0.294 w3: 0.297 b: 0.003 Cost: 29661.800781\n",
            "Epoch  100/1000 w1: 0.674 w2: 0.661 w3: 0.676 b: 0.008 Cost: 1.563628\n",
            "Epoch  200/1000 w1: 0.679 w2: 0.655 w3: 0.677 b: 0.008 Cost: 1.497595\n",
            "Epoch  300/1000 w1: 0.684 w2: 0.649 w3: 0.677 b: 0.008 Cost: 1.435044\n",
            "Epoch  400/1000 w1: 0.689 w2: 0.643 w3: 0.678 b: 0.008 Cost: 1.375726\n",
            "Epoch  500/1000 w1: 0.694 w2: 0.638 w3: 0.678 b: 0.009 Cost: 1.319507\n",
            "Epoch  600/1000 w1: 0.699 w2: 0.633 w3: 0.679 b: 0.009 Cost: 1.266222\n",
            "Epoch  700/1000 w1: 0.704 w2: 0.627 w3: 0.679 b: 0.009 Cost: 1.215703\n",
            "Epoch  800/1000 w1: 0.709 w2: 0.622 w3: 0.679 b: 0.009 Cost: 1.167810\n",
            "Epoch  900/1000 w1: 0.713 w2: 0.617 w3: 0.680 b: 0.009 Cost: 1.122429\n",
            "Epoch 1000/1000 w1: 0.718 w2: 0.613 w3: 0.680 b: 0.009 Cost: 1.079390\n"
          ]
        }
      ]
    },
    {
      "cell_type": "code",
      "source": [
        "# 가설을 행렬곱으로 정의하여 코드 수정\n",
        "\n",
        "x_train  =  torch.FloatTensor([[73,  80,  75], \n",
        "                               [93,  88,  93], \n",
        "                               [89,  91,  80], \n",
        "                               [96,  98,  100],   \n",
        "                               [73,  66,  70]])  \n",
        "y_train  =  torch.FloatTensor([[152],  [185],  [180],  [196],  [142]])\n",
        "\n",
        "# 모델 초기화\n",
        "W = torch.zeros((3, 1), requires_grad=True)\n",
        "b = torch.zeros(1, requires_grad=True)\n",
        "# optimizer 설정\n",
        "optimizer = optim.SGD([W, b], lr=1e-5)\n",
        "\n",
        "nb_epochs = 20\n",
        "for epoch in range(nb_epochs + 1):\n",
        "\n",
        "    # H(x) 계산\n",
        "    # 편향 b는 브로드 캐스팅되어 각 샘플에 더해집니다.\n",
        "    hypothesis = x_train.matmul(W) + b\n",
        "\n",
        "    # cost 계산\n",
        "    cost = torch.mean((hypothesis - y_train) ** 2)\n",
        "\n",
        "    # cost로 H(x) 개선\n",
        "    optimizer.zero_grad()\n",
        "    cost.backward()\n",
        "    optimizer.step()\n",
        "\n",
        "    print('Epoch {:4d}/{} hypothesis: {} Cost: {:.6f}'.format(\n",
        "        epoch, nb_epochs, hypothesis.squeeze().detach(), cost.item()\n",
        "    ))"
      ],
      "metadata": {
        "colab": {
          "base_uri": "https://localhost:8080/"
        },
        "id": "rRSsACjaXnbD",
        "outputId": "3c313db2-f02d-4413-81d0-8b22e109ab08"
      },
      "execution_count": 51,
      "outputs": [
        {
          "output_type": "stream",
          "name": "stdout",
          "text": [
            "Epoch    0/20 hypothesis: tensor([0., 0., 0., 0., 0.]) Cost: 29661.800781\n",
            "Epoch    1/20 hypothesis: tensor([66.7178, 80.1701, 76.1025, 86.0194, 61.1565]) Cost: 9537.694336\n",
            "Epoch    2/20 hypothesis: tensor([104.5421, 125.6208, 119.2478, 134.7862,  95.8280]) Cost: 3069.590088\n",
            "Epoch    3/20 hypothesis: tensor([125.9858, 151.3882, 143.7087, 162.4333, 115.4844]) Cost: 990.670288\n",
            "Epoch    4/20 hypothesis: tensor([138.1429, 165.9963, 157.5768, 178.1071, 126.6283]) Cost: 322.481873\n",
            "Epoch    5/20 hypothesis: tensor([145.0350, 174.2780, 165.4395, 186.9928, 132.9461]) Cost: 107.717064\n",
            "Epoch    6/20 hypothesis: tensor([148.9423, 178.9730, 169.8976, 192.0301, 136.5279]) Cost: 38.687496\n",
            "Epoch    7/20 hypothesis: tensor([151.1574, 181.6346, 172.4254, 194.8856, 138.5585]) Cost: 16.499043\n",
            "Epoch    8/20 hypothesis: tensor([152.4131, 183.1435, 173.8590, 196.5043, 139.7097]) Cost: 9.365656\n",
            "Epoch    9/20 hypothesis: tensor([153.1250, 183.9988, 174.6723, 197.4217, 140.3625]) Cost: 7.071114\n",
            "Epoch   10/20 hypothesis: tensor([153.5285, 184.4835, 175.1338, 197.9415, 140.7325]) Cost: 6.331847\n",
            "Epoch   11/20 hypothesis: tensor([153.7572, 184.7582, 175.3958, 198.2360, 140.9424]) Cost: 6.092532\n",
            "Epoch   12/20 hypothesis: tensor([153.8868, 184.9138, 175.5449, 198.4026, 141.0613]) Cost: 6.013817\n",
            "Epoch   13/20 hypothesis: tensor([153.9602, 185.0019, 175.6299, 198.4969, 141.1288]) Cost: 5.986785\n",
            "Epoch   14/20 hypothesis: tensor([154.0017, 185.0517, 175.6785, 198.5500, 141.1671]) Cost: 5.976325\n",
            "Epoch   15/20 hypothesis: tensor([154.0252, 185.0798, 175.7065, 198.5800, 141.1888]) Cost: 5.971208\n",
            "Epoch   16/20 hypothesis: tensor([154.0385, 185.0956, 175.7229, 198.5966, 141.2012]) Cost: 5.967835\n",
            "Epoch   17/20 hypothesis: tensor([154.0459, 185.1045, 175.7326, 198.6059, 141.2082]) Cost: 5.964969\n",
            "Epoch   18/20 hypothesis: tensor([154.0501, 185.1094, 175.7386, 198.6108, 141.2122]) Cost: 5.962291\n",
            "Epoch   19/20 hypothesis: tensor([154.0524, 185.1120, 175.7424, 198.6134, 141.2145]) Cost: 5.959664\n",
            "Epoch   20/20 hypothesis: tensor([154.0536, 185.1134, 175.7451, 198.6145, 141.2158]) Cost: 5.957089\n"
          ]
        }
      ]
    },
    {
      "cell_type": "markdown",
      "source": [
        "### nn.Module로 선형회귀 구현\n",
        "이미 구현되어 제공되는 함수 호출"
      ],
      "metadata": {
        "id": "510CuHNUZSRE"
      }
    },
    {
      "cell_type": "markdown",
      "source": [
        "#### 단순 선형회귀"
      ],
      "metadata": {
        "id": "RF2xMAFRZbzV"
      }
    },
    {
      "cell_type": "code",
      "source": [
        "import torch\n",
        "import torch.nn as nn\n",
        "import torch.nn.functional as F"
      ],
      "metadata": {
        "id": "8pH18Xx8Ze4t"
      },
      "execution_count": 52,
      "outputs": []
    },
    {
      "cell_type": "code",
      "source": [
        "# 데이터\n",
        "x_train = torch.FloatTensor([[1], [2], [3]])\n",
        "y_train = torch.FloatTensor([[2], [4], [6]])"
      ],
      "metadata": {
        "id": "PFw8y4swZgHQ"
      },
      "execution_count": 53,
      "outputs": []
    },
    {
      "cell_type": "code",
      "source": [
        "# 단순 선형 회귀 모델 선언 및 초기화\n",
        "model = nn.Linear(1,1)\n",
        "print(list(model.parameters()))\n",
        "\n",
        "# 옵티마이저 정의 : 경사하강법 SGD 사용, learning rate 0.01\n",
        "optimizer = torch.optim.SGD(model.parameters(), lr=0.01)  \n",
        "\n",
        "# 전체 훈련 데이터에 대해 SGD 2000회 반복\n",
        "nb_epochs = 2000\n",
        "for epoch in range(nb_epochs+1):\n",
        "\n",
        "    # H(x) 계산\n",
        "    prediction = model(x_train)\n",
        "\n",
        "    # cost 계산\n",
        "    cost = F.mse_loss(prediction, y_train) # <== 파이토치에서 제공하는 평균 제곱 오차 함수\n",
        "\n",
        "    # cost로 H(x) 개선하는 부분\n",
        "    # gradient를 0으로 초기화\n",
        "    optimizer.zero_grad()\n",
        "    # 비용 함수를 미분하여 gradient 계산\n",
        "    cost.backward() # backward 연산\n",
        "    # W와 b를 업데이트\n",
        "    optimizer.step()\n",
        "\n",
        "    if epoch % 100 == 0:\n",
        "    # 100번마다 로그 출력\n",
        "      print('Epoch {:4d}/{} Cost: {:.6f}'.format(\n",
        "          epoch, nb_epochs, cost.item()\n",
        "      ))"
      ],
      "metadata": {
        "colab": {
          "base_uri": "https://localhost:8080/"
        },
        "id": "X4LnICnXZhI5",
        "outputId": "5bc03181-04c4-459a-9146-104afaa24971"
      },
      "execution_count": 54,
      "outputs": [
        {
          "output_type": "stream",
          "name": "stdout",
          "text": [
            "[Parameter containing:\n",
            "tensor([[-0.2677]], requires_grad=True), Parameter containing:\n",
            "tensor([-0.0109], requires_grad=True)]\n",
            "Epoch    0/2000 Cost: 24.097153\n",
            "Epoch  100/2000 Cost: 0.060585\n",
            "Epoch  200/2000 Cost: 0.037438\n",
            "Epoch  300/2000 Cost: 0.023134\n",
            "Epoch  400/2000 Cost: 0.014296\n",
            "Epoch  500/2000 Cost: 0.008834\n",
            "Epoch  600/2000 Cost: 0.005459\n",
            "Epoch  700/2000 Cost: 0.003373\n",
            "Epoch  800/2000 Cost: 0.002084\n",
            "Epoch  900/2000 Cost: 0.001288\n",
            "Epoch 1000/2000 Cost: 0.000796\n",
            "Epoch 1100/2000 Cost: 0.000492\n",
            "Epoch 1200/2000 Cost: 0.000304\n",
            "Epoch 1300/2000 Cost: 0.000188\n",
            "Epoch 1400/2000 Cost: 0.000116\n",
            "Epoch 1500/2000 Cost: 0.000072\n",
            "Epoch 1600/2000 Cost: 0.000044\n",
            "Epoch 1700/2000 Cost: 0.000027\n",
            "Epoch 1800/2000 Cost: 0.000017\n",
            "Epoch 1900/2000 Cost: 0.000010\n",
            "Epoch 2000/2000 Cost: 0.000006\n"
          ]
        }
      ]
    },
    {
      "cell_type": "code",
      "source": [
        "# 최적화 확인\n",
        "\n",
        "# 임의의 입력 4를 선언\n",
        "new_var =  torch.FloatTensor([[4.0]]) \n",
        "# 입력한 값 4에 대해서 예측값 y를 리턴받아서 pred_y에 저장\n",
        "pred_y = model(new_var) # forward 연산\n",
        "# y = 2x 이므로 입력이 4라면 y가 8에 가까운 값이 나와야 제대로 학습이 된 것\n",
        "print(\"훈련 후 입력이 4일 때의 예측값 :\", pred_y) "
      ],
      "metadata": {
        "colab": {
          "base_uri": "https://localhost:8080/"
        },
        "id": "-LK-fpYLZyJ5",
        "outputId": "77e58b3e-ebc8-4a0b-9737-cebcabf163d3"
      },
      "execution_count": 55,
      "outputs": [
        {
          "output_type": "stream",
          "name": "stdout",
          "text": [
            "훈련 후 입력이 4일 때의 예측값 : tensor([[7.9949]], grad_fn=<AddmmBackward0>)\n"
          ]
        }
      ]
    },
    {
      "cell_type": "markdown",
      "source": [
        "정답인 8에 가까운 값이므로 최적화 된 것으로 간주"
      ],
      "metadata": {
        "id": "q6zLvUE3Z3AC"
      }
    },
    {
      "cell_type": "code",
      "source": [
        "# 학습 후의 W와 b의 값을 출력\n",
        "\n",
        "print(list(model.parameters()))"
      ],
      "metadata": {
        "colab": {
          "base_uri": "https://localhost:8080/"
        },
        "id": "Y07TWhBqZ8iH",
        "outputId": "bf642c6c-32c1-40c1-dbc6-9dff42974162"
      },
      "execution_count": 56,
      "outputs": [
        {
          "output_type": "stream",
          "name": "stdout",
          "text": [
            "[Parameter containing:\n",
            "tensor([[1.9971]], requires_grad=True), Parameter containing:\n",
            "tensor([0.0067], requires_grad=True)]\n"
          ]
        }
      ]
    },
    {
      "cell_type": "markdown",
      "source": [
        "#### 다중 선형 회귀"
      ],
      "metadata": {
        "id": "0OZv7gc_Z_uF"
      }
    },
    {
      "cell_type": "code",
      "source": [
        "# 데이터\n",
        "x_train = torch.FloatTensor([[73, 80, 75],\n",
        "                             [93, 88, 93],\n",
        "                             [89, 91, 90],\n",
        "                             [96, 98, 100],\n",
        "                             [73, 66, 70]])\n",
        "y_train = torch.FloatTensor([[152], [185], [180], [196], [142]])"
      ],
      "metadata": {
        "id": "s1JXjMWZaBoZ"
      },
      "execution_count": 57,
      "outputs": []
    },
    {
      "cell_type": "code",
      "source": [
        "# 모델 선언 및 초기화\n",
        "model = nn.Linear(3,1)\n",
        "\n",
        "# 가중치 출력\n",
        "print(list(model.parameters()))\n",
        "\n",
        "# 옵티마이저 정의\n",
        "optimizer = torch.optim.SGD(model.parameters(), lr=1e-5) \n",
        "\n",
        "# 2000회 반복\n",
        "nb_epochs = 2000\n",
        "for epoch in range(nb_epochs+1):\n",
        "\n",
        "    # H(x) 계산\n",
        "    prediction = model(x_train)\n",
        "    # model(x_train)은 model.forward(x_train)와 동일함.\n",
        "\n",
        "    # cost 계산\n",
        "    cost = F.mse_loss(prediction, y_train) # <== 파이토치에서 제공하는 평균 제곱 오차 함수\n",
        "\n",
        "    # cost로 H(x) 개선하는 부분\n",
        "    # gradient를 0으로 초기화\n",
        "    optimizer.zero_grad()\n",
        "    # 비용 함수를 미분하여 gradient 계산\n",
        "    cost.backward()\n",
        "    # W와 b를 업데이트\n",
        "    optimizer.step()\n",
        "\n",
        "    if epoch % 100 == 0:\n",
        "    # 100번마다 로그 출력\n",
        "      print('Epoch {:4d}/{} Cost: {:.6f}'.format(\n",
        "          epoch, nb_epochs, cost.item()\n",
        "      ))"
      ],
      "metadata": {
        "colab": {
          "base_uri": "https://localhost:8080/"
        },
        "id": "owaQkRORaDdO",
        "outputId": "e6997db3-112d-4f97-d673-6b5b0f10f776"
      },
      "execution_count": 58,
      "outputs": [
        {
          "output_type": "stream",
          "name": "stdout",
          "text": [
            "[Parameter containing:\n",
            "tensor([[-0.4607,  0.0124,  0.0936]], requires_grad=True), Parameter containing:\n",
            "tensor([0.5281], requires_grad=True)]\n",
            "Epoch    0/2000 Cost: 40761.429688\n",
            "Epoch  100/2000 Cost: 5.048667\n",
            "Epoch  200/2000 Cost: 4.813394\n",
            "Epoch  300/2000 Cost: 4.590391\n",
            "Epoch  400/2000 Cost: 4.379076\n",
            "Epoch  500/2000 Cost: 4.178770\n",
            "Epoch  600/2000 Cost: 3.988918\n",
            "Epoch  700/2000 Cost: 3.808990\n",
            "Epoch  800/2000 Cost: 3.638451\n",
            "Epoch  900/2000 Cost: 3.476785\n",
            "Epoch 1000/2000 Cost: 3.323546\n",
            "Epoch 1100/2000 Cost: 3.178276\n",
            "Epoch 1200/2000 Cost: 3.040588\n",
            "Epoch 1300/2000 Cost: 2.910027\n",
            "Epoch 1400/2000 Cost: 2.786245\n",
            "Epoch 1500/2000 Cost: 2.668882\n",
            "Epoch 1600/2000 Cost: 2.557631\n",
            "Epoch 1700/2000 Cost: 2.452136\n",
            "Epoch 1800/2000 Cost: 2.352127\n",
            "Epoch 1900/2000 Cost: 2.257246\n",
            "Epoch 2000/2000 Cost: 2.167309\n"
          ]
        }
      ]
    },
    {
      "cell_type": "code",
      "source": [
        "# 임의의 입력 [73, 80, 75]를 선언\n",
        "new_var =  torch.FloatTensor([[73, 80, 75]]) \n",
        "# 입력한 값 [73, 80, 75]에 대해서 예측값 y를 리턴받아서 pred_y에 저장\n",
        "pred_y = model(new_var) \n",
        "print(\"훈련 후 입력이 73, 80, 75일 때의 예측값 :\", pred_y) "
      ],
      "metadata": {
        "colab": {
          "base_uri": "https://localhost:8080/"
        },
        "id": "Id-PVOXlaTu4",
        "outputId": "cf289c44-5bca-4426-b908-68af6d4da8ce"
      },
      "execution_count": 59,
      "outputs": [
        {
          "output_type": "stream",
          "name": "stdout",
          "text": [
            "훈련 후 입력이 73, 80, 75일 때의 예측값 : tensor([[152.7658]], grad_fn=<AddmmBackward0>)\n"
          ]
        }
      ]
    },
    {
      "cell_type": "markdown",
      "source": [
        "152와 근사한 값 나와 최적화된 것으로 간주"
      ],
      "metadata": {
        "id": "KqB4F9RSaWj2"
      }
    },
    {
      "cell_type": "code",
      "source": [
        "print(list(model.parameters()))"
      ],
      "metadata": {
        "colab": {
          "base_uri": "https://localhost:8080/"
        },
        "id": "ovpRC9SWaczx",
        "outputId": "823fa8d3-6ec5-4828-dc85-212c9a9bf741"
      },
      "execution_count": 60,
      "outputs": [
        {
          "output_type": "stream",
          "name": "stdout",
          "text": [
            "[Parameter containing:\n",
            "tensor([[0.4892, 0.6128, 0.8999]], requires_grad=True), Parameter containing:\n",
            "tensor([0.5417], requires_grad=True)]\n"
          ]
        }
      ]
    },
    {
      "cell_type": "markdown",
      "source": [
        "# 클래스로 파이토치 모델 구현"
      ],
      "metadata": {
        "id": "GfYfSfpHadxB"
      }
    },
    {
      "cell_type": "markdown",
      "source": [
        "단순 선형회귀"
      ],
      "metadata": {
        "id": "IcDVxxpTazXa"
      }
    },
    {
      "cell_type": "code",
      "source": [
        "class LinearRegressionModel(nn.Module): # torch.nn.Module을 상속받는 파이썬 클래스\n",
        "    def __init__(self): #\n",
        "        super().__init__()\n",
        "        self.linear = nn.Linear(1, 1) # 단순 선형 회귀이므로 input_dim=1, output_dim=1.\n",
        "\n",
        "    def forward(self, x):\n",
        "        return self.linear(x)"
      ],
      "metadata": {
        "id": "eebMr0fjapRg"
      },
      "execution_count": 61,
      "outputs": []
    },
    {
      "cell_type": "code",
      "source": [
        "model = LinearRegressionModel()"
      ],
      "metadata": {
        "id": "6wEN1lKKasUr"
      },
      "execution_count": 66,
      "outputs": []
    },
    {
      "cell_type": "code",
      "source": [
        "# 데이터\n",
        "x_train = torch.FloatTensor([[1], [2], [3]])\n",
        "y_train = torch.FloatTensor([[2], [4], [6]])"
      ],
      "metadata": {
        "id": "6sh280Dla8Kw"
      },
      "execution_count": 65,
      "outputs": []
    },
    {
      "cell_type": "code",
      "source": [
        "optimizer = torch.optim.SGD(model.parameters(), lr=0.01) \n",
        "\n",
        "nb_epochs = 2000\n",
        "for epoch in range(nb_epochs+1):\n",
        "\n",
        "    # H(x) 계산\n",
        "    prediction = model(x_train)\n",
        "\n",
        "    # cost 계산\n",
        "    cost = F.mse_loss(prediction, y_train) # <== 파이토치에서 제공하는 평균 제곱 오차 함수\n",
        "\n",
        "    # cost로 H(x) 개선하는 부분\n",
        "    # gradient를 0으로 초기화\n",
        "    optimizer.zero_grad()\n",
        "    # 비용 함수를 미분하여 gradient 계산\n",
        "    cost.backward() # backward 연산\n",
        "    # W와 b를 업데이트\n",
        "    optimizer.step()\n",
        "\n",
        "    if epoch % 100 == 0:\n",
        "    # 100번마다 로그 출력\n",
        "      print('Epoch {:4d}/{} Cost: {:.6f}'.format(\n",
        "          epoch, nb_epochs, cost.item()\n",
        "      ))"
      ],
      "metadata": {
        "colab": {
          "base_uri": "https://localhost:8080/"
        },
        "id": "XxeiiKlqa9m-",
        "outputId": "50b632a3-b069-4593-e5cf-dc197410293a"
      },
      "execution_count": 67,
      "outputs": [
        {
          "output_type": "stream",
          "name": "stdout",
          "text": [
            "Epoch    0/2000 Cost: 11.484162\n",
            "Epoch  100/2000 Cost: 0.023951\n",
            "Epoch  200/2000 Cost: 0.014800\n",
            "Epoch  300/2000 Cost: 0.009145\n",
            "Epoch  400/2000 Cost: 0.005651\n",
            "Epoch  500/2000 Cost: 0.003492\n",
            "Epoch  600/2000 Cost: 0.002158\n",
            "Epoch  700/2000 Cost: 0.001334\n",
            "Epoch  800/2000 Cost: 0.000824\n",
            "Epoch  900/2000 Cost: 0.000509\n",
            "Epoch 1000/2000 Cost: 0.000315\n",
            "Epoch 1100/2000 Cost: 0.000194\n",
            "Epoch 1200/2000 Cost: 0.000120\n",
            "Epoch 1300/2000 Cost: 0.000074\n",
            "Epoch 1400/2000 Cost: 0.000046\n",
            "Epoch 1500/2000 Cost: 0.000028\n",
            "Epoch 1600/2000 Cost: 0.000018\n",
            "Epoch 1700/2000 Cost: 0.000011\n",
            "Epoch 1800/2000 Cost: 0.000007\n",
            "Epoch 1900/2000 Cost: 0.000004\n",
            "Epoch 2000/2000 Cost: 0.000003\n"
          ]
        }
      ]
    },
    {
      "cell_type": "markdown",
      "source": [
        "다중 선형 회귀"
      ],
      "metadata": {
        "id": "JOPHONK2atlP"
      }
    },
    {
      "cell_type": "code",
      "source": [
        "class MultivariateLinearRegressionModel(nn.Module):\n",
        "    def __init__(self):\n",
        "        super().__init__()\n",
        "        self.linear = nn.Linear(3, 1) # 다중 선형 회귀이므로 input_dim=3, output_dim=1.\n",
        "\n",
        "    def forward(self, x):\n",
        "        return self.linear(x)"
      ],
      "metadata": {
        "id": "saSnP_THa2IJ"
      },
      "execution_count": 63,
      "outputs": []
    },
    {
      "cell_type": "code",
      "source": [
        "model = MultivariateLinearRegressionModel()"
      ],
      "metadata": {
        "id": "Ku4jZ7mFa3Zk"
      },
      "execution_count": 69,
      "outputs": []
    },
    {
      "cell_type": "code",
      "source": [
        "# 데이터\n",
        "x_train = torch.FloatTensor([[73, 80, 75],\n",
        "                             [93, 88, 93],\n",
        "                             [89, 91, 90],\n",
        "                             [96, 98, 100],\n",
        "                             [73, 66, 70]])\n",
        "y_train = torch.FloatTensor([[152], [185], [180], [196], [142]])"
      ],
      "metadata": {
        "id": "wpmYkSS7a4bg"
      },
      "execution_count": 68,
      "outputs": []
    },
    {
      "cell_type": "code",
      "source": [
        "optimizer = torch.optim.SGD(model.parameters(), lr=1e-5) \n",
        "\n",
        "nb_epochs = 2000\n",
        "for epoch in range(nb_epochs+1):\n",
        "\n",
        "    # H(x) 계산\n",
        "    prediction = model(x_train)\n",
        "    # model(x_train)은 model.forward(x_train)와 동일함.\n",
        "\n",
        "    # cost 계산\n",
        "    cost = F.mse_loss(prediction, y_train) # <== 파이토치에서 제공하는 평균 제곱 오차 함수\n",
        "\n",
        "    # cost로 H(x) 개선하는 부분\n",
        "    # gradient를 0으로 초기화\n",
        "    optimizer.zero_grad()\n",
        "    # 비용 함수를 미분하여 gradient 계산\n",
        "    cost.backward()\n",
        "    # W와 b를 업데이트\n",
        "    optimizer.step()\n",
        "\n",
        "    if epoch % 100 == 0:\n",
        "    # 100번마다 로그 출력\n",
        "      print('Epoch {:4d}/{} Cost: {:.6f}'.format(\n",
        "          epoch, nb_epochs, cost.item()\n",
        "      ))"
      ],
      "metadata": {
        "colab": {
          "base_uri": "https://localhost:8080/"
        },
        "id": "HNrcSIlobE0l",
        "outputId": "0b440011-74ea-42f1-c97a-ca38cda5c81c"
      },
      "execution_count": 70,
      "outputs": [
        {
          "output_type": "stream",
          "name": "stdout",
          "text": [
            "Epoch    0/2000 Cost: 27948.765625\n",
            "Epoch  100/2000 Cost: 0.490603\n",
            "Epoch  200/2000 Cost: 0.486734\n",
            "Epoch  300/2000 Cost: 0.483003\n",
            "Epoch  400/2000 Cost: 0.479400\n",
            "Epoch  500/2000 Cost: 0.475938\n",
            "Epoch  600/2000 Cost: 0.472586\n",
            "Epoch  700/2000 Cost: 0.469339\n",
            "Epoch  800/2000 Cost: 0.466216\n",
            "Epoch  900/2000 Cost: 0.463180\n",
            "Epoch 1000/2000 Cost: 0.460251\n",
            "Epoch 1100/2000 Cost: 0.457407\n",
            "Epoch 1200/2000 Cost: 0.454653\n",
            "Epoch 1300/2000 Cost: 0.451983\n",
            "Epoch 1400/2000 Cost: 0.449391\n",
            "Epoch 1500/2000 Cost: 0.446881\n",
            "Epoch 1600/2000 Cost: 0.444436\n",
            "Epoch 1700/2000 Cost: 0.442062\n",
            "Epoch 1800/2000 Cost: 0.439746\n",
            "Epoch 1900/2000 Cost: 0.437495\n",
            "Epoch 2000/2000 Cost: 0.435308\n"
          ]
        }
      ]
    },
    {
      "cell_type": "markdown",
      "source": [
        "# 커스텀 데이터 셋\n",
        "- `torch.utils.data.Dataset`을 상속받아 직접 커스텀 데이터 셋 생성 가능\n",
        "- `torch.utils.data.Dataset` : 파이토치에서 데이터셋을 제공하는 추상 클래스"
      ],
      "metadata": {
        "id": "WQJtL2_NbHxL"
      }
    },
    {
      "cell_type": "markdown",
      "source": [
        "```python\n",
        "class CustomDataset(torch.utils.data.Dataset): \n",
        "  def __init__(self):\n",
        "  # 데이터셋 전처리\n",
        "  def __len__(self):\n",
        "  # 데이터셋 길이 (= 총 샘플 수)\n",
        "  def __getitem__(self, idx): \n",
        "  # 데이터셋에서 특정 1개의 샘플을 가져오는 함수\n",
        "```"
      ],
      "metadata": {
        "id": "OvRtT6EZbeS3"
      }
    },
    {
      "cell_type": "markdown",
      "source": [
        "커스텀 데이터 셋으로 선형회귀 구현"
      ],
      "metadata": {
        "id": "FPs09CO9bxOm"
      }
    },
    {
      "cell_type": "code",
      "source": [
        "import torch\n",
        "import torch.nn.functional as F\n",
        "from torch.utils.data import Dataset\n",
        "from torch.utils.data import DataLoader"
      ],
      "metadata": {
        "id": "cfDYkNWUb0Zc"
      },
      "execution_count": 72,
      "outputs": []
    },
    {
      "cell_type": "code",
      "source": [
        "# Dataset 상속\n",
        "class CustomDataset(Dataset): \n",
        "  def __init__(self):\n",
        "    self.x_data = [[73, 80, 75],\n",
        "                   [93, 88, 93],\n",
        "                   [89, 91, 90],\n",
        "                   [96, 98, 100],\n",
        "                   [73, 66, 70]]\n",
        "    self.y_data = [[152], [185], [180], [196], [142]]\n",
        "\n",
        "  # 총 데이터의 개수를 리턴\n",
        "  def __len__(self): \n",
        "    return len(self.x_data)\n",
        "\n",
        "  # 인덱스를 입력받아 그에 맵핑되는 입출력 데이터를 파이토치의 Tensor 형태로 리턴\n",
        "  def __getitem__(self, idx): \n",
        "    x = torch.FloatTensor(self.x_data[idx])\n",
        "    y = torch.FloatTensor(self.y_data[idx])\n",
        "    return x, y"
      ],
      "metadata": {
        "id": "m8CMZlRobfoT"
      },
      "execution_count": 73,
      "outputs": []
    },
    {
      "cell_type": "code",
      "source": [
        "dataset = CustomDataset()\n",
        "dataloader = DataLoader(dataset, batch_size=2, shuffle=True)"
      ],
      "metadata": {
        "id": "hBcxWer1b1Ln"
      },
      "execution_count": 74,
      "outputs": []
    },
    {
      "cell_type": "code",
      "source": [
        "model = torch.nn.Linear(3,1)\n",
        "optimizer = torch.optim.SGD(model.parameters(), lr=1e-5) "
      ],
      "metadata": {
        "id": "3ADZMOkVb26x"
      },
      "execution_count": 75,
      "outputs": []
    },
    {
      "cell_type": "code",
      "source": [
        "nb_epochs = 20\n",
        "for epoch in range(nb_epochs + 1):\n",
        "  for batch_idx, samples in enumerate(dataloader):\n",
        "    # print(batch_idx)\n",
        "    # print(samples)\n",
        "    x_train, y_train = samples\n",
        "    # H(x) 계산\n",
        "    prediction = model(x_train)\n",
        "\n",
        "    # cost 계산\n",
        "    cost = F.mse_loss(prediction, y_train)\n",
        "\n",
        "    # cost로 H(x) 계산\n",
        "    optimizer.zero_grad()\n",
        "    cost.backward()\n",
        "    optimizer.step()\n",
        "\n",
        "    print('Epoch {:4d}/{} Batch {}/{} Cost: {:.6f}'.format(\n",
        "        epoch, nb_epochs, batch_idx+1, len(dataloader),\n",
        "        cost.item()\n",
        "        ))"
      ],
      "metadata": {
        "colab": {
          "base_uri": "https://localhost:8080/"
        },
        "id": "aHMAdkSgb3v6",
        "outputId": "6f0af4f2-d67d-4cc4-fac2-6be65629d19a"
      },
      "execution_count": 76,
      "outputs": [
        {
          "output_type": "stream",
          "name": "stdout",
          "text": [
            "Epoch    0/20 Batch 1/3 Cost: 16711.613281\n",
            "Epoch    0/20 Batch 2/3 Cost: 5968.732910\n",
            "Epoch    0/20 Batch 3/3 Cost: 2857.959229\n",
            "Epoch    1/20 Batch 1/3 Cost: 403.177673\n",
            "Epoch    1/20 Batch 2/3 Cost: 146.016876\n",
            "Epoch    1/20 Batch 3/3 Cost: 26.508766\n",
            "Epoch    2/20 Batch 1/3 Cost: 4.560556\n",
            "Epoch    2/20 Batch 2/3 Cost: 18.331013\n",
            "Epoch    2/20 Batch 3/3 Cost: 7.807921\n",
            "Epoch    3/20 Batch 1/3 Cost: 2.040971\n",
            "Epoch    3/20 Batch 2/3 Cost: 4.053217\n",
            "Epoch    3/20 Batch 3/3 Cost: 2.856211\n",
            "Epoch    4/20 Batch 1/3 Cost: 3.847189\n",
            "Epoch    4/20 Batch 2/3 Cost: 2.195597\n",
            "Epoch    4/20 Batch 3/3 Cost: 4.624246\n",
            "Epoch    5/20 Batch 1/3 Cost: 4.077871\n",
            "Epoch    5/20 Batch 2/3 Cost: 2.276790\n",
            "Epoch    5/20 Batch 3/3 Cost: 4.486425\n",
            "Epoch    6/20 Batch 1/3 Cost: 3.261948\n",
            "Epoch    6/20 Batch 2/3 Cost: 4.151172\n",
            "Epoch    6/20 Batch 3/3 Cost: 2.115610\n",
            "Epoch    7/20 Batch 1/3 Cost: 1.262930\n",
            "Epoch    7/20 Batch 2/3 Cost: 9.320280\n",
            "Epoch    7/20 Batch 3/3 Cost: 0.355717\n",
            "Epoch    8/20 Batch 1/3 Cost: 1.771634\n",
            "Epoch    8/20 Batch 2/3 Cost: 3.862013\n",
            "Epoch    8/20 Batch 3/3 Cost: 4.322219\n",
            "Epoch    9/20 Batch 1/3 Cost: 4.156277\n",
            "Epoch    9/20 Batch 2/3 Cost: 1.704957\n",
            "Epoch    9/20 Batch 3/3 Cost: 3.855396\n",
            "Epoch   10/20 Batch 1/3 Cost: 1.819900\n",
            "Epoch   10/20 Batch 2/3 Cost: 8.459335\n",
            "Epoch   10/20 Batch 3/3 Cost: 0.483205\n",
            "Epoch   11/20 Batch 1/3 Cost: 2.975881\n",
            "Epoch   11/20 Batch 2/3 Cost: 2.239712\n",
            "Epoch   11/20 Batch 3/3 Cost: 5.273462\n",
            "Epoch   12/20 Batch 1/3 Cost: 4.544135\n",
            "Epoch   12/20 Batch 2/3 Cost: 2.294717\n",
            "Epoch   12/20 Batch 3/3 Cost: 2.459847\n",
            "Epoch   13/20 Batch 1/3 Cost: 3.032988\n",
            "Epoch   13/20 Batch 2/3 Cost: 2.692260\n",
            "Epoch   13/20 Batch 3/3 Cost: 8.186064\n",
            "Epoch   14/20 Batch 1/3 Cost: 1.673444\n",
            "Epoch   14/20 Batch 2/3 Cost: 5.150728\n",
            "Epoch   14/20 Batch 3/3 Cost: 5.982389\n",
            "Epoch   15/20 Batch 1/3 Cost: 1.633013\n",
            "Epoch   15/20 Batch 2/3 Cost: 8.744435\n",
            "Epoch   15/20 Batch 3/3 Cost: 0.198779\n",
            "Epoch   16/20 Batch 1/3 Cost: 1.641794\n",
            "Epoch   16/20 Batch 2/3 Cost: 6.496367\n",
            "Epoch   16/20 Batch 3/3 Cost: 3.725814\n",
            "Epoch   17/20 Batch 1/3 Cost: 3.084362\n",
            "Epoch   17/20 Batch 2/3 Cost: 3.889754\n",
            "Epoch   17/20 Batch 3/3 Cost: 2.331427\n",
            "Epoch   18/20 Batch 1/3 Cost: 3.928748\n",
            "Epoch   18/20 Batch 2/3 Cost: 2.196803\n",
            "Epoch   18/20 Batch 3/3 Cost: 4.409064\n",
            "Epoch   19/20 Batch 1/3 Cost: 4.701168\n",
            "Epoch   19/20 Batch 2/3 Cost: 2.387321\n",
            "Epoch   19/20 Batch 3/3 Cost: 2.306101\n",
            "Epoch   20/20 Batch 1/3 Cost: 0.351692\n",
            "Epoch   20/20 Batch 2/3 Cost: 4.794126\n",
            "Epoch   20/20 Batch 3/3 Cost: 4.878062\n"
          ]
        }
      ]
    },
    {
      "cell_type": "code",
      "source": [
        "# 임의의 입력 [73, 80, 75]를 선언\n",
        "new_var =  torch.FloatTensor([[73, 80, 75]]) \n",
        "# 입력한 값 [73, 80, 75]에 대해서 예측값 y를 리턴받아서 pred_y에 저장\n",
        "pred_y = model(new_var) \n",
        "print(\"훈련 후 입력이 73, 80, 75일 때의 예측값 :\", pred_y) "
      ],
      "metadata": {
        "colab": {
          "base_uri": "https://localhost:8080/"
        },
        "id": "ZGbT0sGjb47u",
        "outputId": "30b0c49a-7578-4f90-bb5b-010e0664cd43"
      },
      "execution_count": 77,
      "outputs": [
        {
          "output_type": "stream",
          "name": "stdout",
          "text": [
            "훈련 후 입력이 73, 80, 75일 때의 예측값 : tensor([[154.3738]], grad_fn=<AddmmBackward0>)\n"
          ]
        }
      ]
    }
  ]
}